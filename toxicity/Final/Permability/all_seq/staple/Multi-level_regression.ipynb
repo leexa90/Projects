{
 "cells": [
  {
   "cell_type": "code",
   "execution_count": 2,
   "metadata": {
    "collapsed": true
   },
   "outputs": [],
   "source": [
    "%matplotlib inline\n",
    "%config InlineBackend.figure_format = 'retina'"
   ]
  },
  {
   "cell_type": "code",
   "execution_count": 1,
   "metadata": {},
   "outputs": [
    {
     "name": "stderr",
     "output_type": "stream",
     "text": [
      "/home/leexa/anaconda3/lib/python3.6/site-packages/h5py/__init__.py:36: FutureWarning: Conversion of the second argument of issubdtype from `float` to `np.floating` is deprecated. In future, it will be treated as `np.float64 == np.dtype(float).type`.\n",
      "  from ._conv import register_converters as _register_converters\n"
     ]
    }
   ],
   "source": [
    "import mpl_toolkits\n",
    "mpl_toolkits.__path__.append('/usr/lib/python2.7/dist-packages/mpl_toolkits/basemap')\n",
    "import os\n",
    "import us\n",
    "import matplotlib as mpl\n",
    "from matplotlib import pyplot as plt\n",
    "from matplotlib.colors import Normalize, rgb2hex\n",
    "from matplotlib.patches import Polygon\n",
    "from matplotlib.ticker import FuncFormatter\n",
    "#from mpl_toolkits.basemap import Basemap\n",
    "import numpy as np\n",
    "import pandas as pd\n",
    "import pymc3 as pm\n",
    "import scipy as sp\n",
    "import seaborn as sns\n",
    "from theano import shared"
   ]
  },
  {
   "cell_type": "code",
   "execution_count": 3,
   "metadata": {
    "collapsed": true
   },
   "outputs": [],
   "source": [
    "%%bash\n",
    "if [ ! -e ./st99_d00.dbf ];\n",
    "then\n",
    "    wget -q https://github.com/matplotlib/basemap/raw/master/examples/st99_d00.dbf\n",
    "    wget -q https://github.com/matplotlib/basemap/raw/master/examples/st99_d00.shp\n",
    "    wget -q https://github.com/matplotlib/basemap/raw/master/examples/st99_d00.shx\n",
    "fi"
   ]
  },
  {
   "cell_type": "code",
   "execution_count": 4,
   "metadata": {},
   "outputs": [],
   "source": [
    "SEED = 4260026 # from random.org, for reproducibility\n",
    "\n",
    "np.random.seed(SEED)"
   ]
  },
  {
   "cell_type": "code",
   "execution_count": 5,
   "metadata": {
    "collapsed": true
   },
   "outputs": [],
   "source": [
    "def to_zero_indexed(col):\n",
    "    return lambda df: (df[col] - 1).astype(np.int64)\n",
    "DATA_PREFIX = 'http://www.princeton.edu/~jkastell/MRP_primer/'\n",
    "\n",
    "survey_df = (pd.read_stata(os.path.join(DATA_PREFIX, 'gay_marriage_megapoll.dta'),\n",
    "                           columns=['race_wbh', 'age_cat', 'edu_cat', 'female',\n",
    "                                    'state_initnum', 'state', 'region_cat', 'region', 'statename',\n",
    "                                    'poll', 'yes_of_all'])\n",
    "               .dropna(subset=['race_wbh', 'age_cat', 'edu_cat', 'state_initnum'])\n",
    "               .assign(state_initnum=to_zero_indexed('state_initnum'),\n",
    "                       race_wbh=to_zero_indexed('race_wbh'),\n",
    "                       edu_cat=to_zero_indexed('edu_cat'),\n",
    "                       age_cat=to_zero_indexed('age_cat'),\n",
    "                       region_cat=to_zero_indexed('region_cat')))"
   ]
  },
  {
   "cell_type": "code",
   "execution_count": 6,
   "metadata": {},
   "outputs": [],
   "source": [
    "survey_df.head()\n",
    "state_counts = survey_df.groupby('state').size()\n"
   ]
  },
  {
   "cell_type": "code",
   "execution_count": 15,
   "metadata": {},
   "outputs": [
    {
     "data": {
      "text/plain": [
       "u'AK'"
      ]
     },
     "execution_count": 15,
     "metadata": {},
     "output_type": "execute_result"
    }
   ],
   "source": [
    "us.states.lookup(unicode('Alaska')).abbr"
   ]
  },
  {
   "cell_type": "code",
   "execution_count": 10,
   "metadata": {},
   "outputs": [
    {
     "ename": "NameError",
     "evalue": "name 'Basemap' is not defined",
     "output_type": "error",
     "traceback": [
      "\u001b[0;31m---------------------------------------------------------------------------\u001b[0m",
      "\u001b[0;31mNameError\u001b[0m                                 Traceback (most recent call last)",
      "\u001b[0;32m<ipython-input-10-e9e4d47d5f4b>\u001b[0m in \u001b[0;36m<module>\u001b[0;34m()\u001b[0m\n\u001b[1;32m     39\u001b[0m                               \u001b[0mmpl\u001b[0m\u001b[0;34m.\u001b[0m\u001b[0mcm\u001b[0m\u001b[0;34m.\u001b[0m\u001b[0mbinary\u001b[0m\u001b[0;34m,\u001b[0m\u001b[0;34m\u001b[0m\u001b[0m\n\u001b[1;32m     40\u001b[0m                               \u001b[0mNormalize\u001b[0m\u001b[0;34m(\u001b[0m\u001b[0;36m0\u001b[0m\u001b[0;34m,\u001b[0m \u001b[0mstate_counts\u001b[0m\u001b[0;34m.\u001b[0m\u001b[0mmax\u001b[0m\u001b[0;34m(\u001b[0m\u001b[0;34m)\u001b[0m\u001b[0;34m)\u001b[0m\u001b[0;34m,\u001b[0m\u001b[0;34m\u001b[0m\u001b[0m\n\u001b[0;32m---> 41\u001b[0;31m                               default=None)\n\u001b[0m\u001b[1;32m     42\u001b[0m \u001b[0mplt\u001b[0m\u001b[0;34m.\u001b[0m\u001b[0msavefig\u001b[0m\u001b[0;34m(\u001b[0m\u001b[0;34m'test.png'\u001b[0m\u001b[0;34m)\u001b[0m\u001b[0;34m\u001b[0m\u001b[0m\n\u001b[1;32m     43\u001b[0m \u001b[0mfig\u001b[0m\u001b[0;34m.\u001b[0m\u001b[0mshow\u001b[0m\u001b[0;34m(\u001b[0m\u001b[0;34m)\u001b[0m\u001b[0;34m\u001b[0m\u001b[0m\n",
      "\u001b[0;32m<ipython-input-10-e9e4d47d5f4b>\u001b[0m in \u001b[0;36mstate_plot\u001b[0;34m(state_data, cmap, norm, cbar, default, ax)\u001b[0m\n\u001b[1;32m      6\u001b[0m         \u001b[0mfig\u001b[0m \u001b[0;34m=\u001b[0m \u001b[0mplt\u001b[0m\u001b[0;34m.\u001b[0m\u001b[0mgcf\u001b[0m\u001b[0;34m(\u001b[0m\u001b[0;34m)\u001b[0m\u001b[0;34m\u001b[0m\u001b[0m\n\u001b[1;32m      7\u001b[0m \u001b[0;34m\u001b[0m\u001b[0m\n\u001b[0;32m----> 8\u001b[0;31m     m = Basemap(llcrnrlon=-121, llcrnrlat=20,\n\u001b[0m\u001b[1;32m      9\u001b[0m                 \u001b[0murcrnrlon\u001b[0m\u001b[0;34m=\u001b[0m\u001b[0;34m-\u001b[0m\u001b[0;36m62\u001b[0m\u001b[0;34m,\u001b[0m \u001b[0murcrnrlat\u001b[0m\u001b[0;34m=\u001b[0m\u001b[0;36m51\u001b[0m\u001b[0;34m,\u001b[0m\u001b[0;34m\u001b[0m\u001b[0m\n\u001b[1;32m     10\u001b[0m                 \u001b[0mprojection\u001b[0m\u001b[0;34m=\u001b[0m\u001b[0;34m'lcc'\u001b[0m\u001b[0;34m,\u001b[0m\u001b[0;34m\u001b[0m\u001b[0m\n",
      "\u001b[0;31mNameError\u001b[0m: name 'Basemap' is not defined"
     ]
    },
    {
     "data": {
      "image/png": "[encoded data removed]",
      "text/plain": [
       "<Figure size 576x432 with 1 Axes>"
      ]
     },
     "metadata": {
      "image/png": {
       "height": 360,
       "width": 491
      }
     },
     "output_type": "display_data"
    }
   ],
   "source": [
    "# respondants differ by states\n",
    "def state_plot(state_data, cmap, norm, cbar=True, default=None, ax=None):\n",
    "    if ax is None:\n",
    "        fig, ax = plt.subplots(figsize=(8, 6))\n",
    "    else:\n",
    "        fig = plt.gcf()\n",
    "\n",
    "    m = Basemap(llcrnrlon=-121, llcrnrlat=20,\n",
    "                urcrnrlon=-62, urcrnrlat=51,\n",
    "                projection='lcc',\n",
    "                lat_1=32, lat_2=45, lon_0=-95)\n",
    "    m.readshapefile('st99_d00', name='states', drawbounds=True)\n",
    "\n",
    "    for state_info, state_seg in zip(m.states_info, m.states):\n",
    "        if state_info['NAME'] == 'Alaska':\n",
    "            state_seg = list(map(lambda xy: (0.35 * xy[0] + 1100000, 0.35 * xy[1] - 1300000), state_seg))\n",
    "        elif state_info['NAME'] == 'Hawaii' and float(state_info['AREA']) > 0.005:\n",
    "            state_seg = list(map(lambda xy: (xy[0] + 5100000, xy[1] - 1400000), state_seg))\n",
    "\n",
    "        try:\n",
    "            #print (state_info,state_seg)\n",
    "            #print((state_info['NAME']))\n",
    "            state_datum = state_data.loc[us.states.lookup(unicode(state_info['NAME'])).abbr]   \n",
    "        except KeyError:\n",
    "            state_datum = default\n",
    "        if state_datum is not None:\n",
    "            color = rgb2hex(cmap(norm(state_datum))) \n",
    "\n",
    "            poly = Polygon(state_seg, facecolor=color, edgecolor='#000000')\n",
    "            ax.add_patch(poly)\n",
    "    if cbar:\n",
    "        cbar_ax = fig.add_axes([0.925, 0.25, 0.04, 0.5])\n",
    "        mpl.colorbar.ColorbarBase(cbar_ax, cmap=cmap, norm=norm)\n",
    "    else:\n",
    "        cbar_ax = None\n",
    "    return fig, ax, cbar_ax,'ok'\n",
    "state_counts = survey_df.groupby('state').size()\n",
    "fig, ax, cbar_ax,ok = state_plot(state_counts,\n",
    "                              mpl.cm.binary,\n",
    "                              Normalize(0, state_counts.max()),\n",
    "                              default=None)\n",
    "plt.savefig('test.png')\n",
    "fig.show()"
   ]
  },
  {
   "cell_type": "code",
   "execution_count": 11,
   "metadata": {},
   "outputs": [
    {
     "ename": "NameError",
     "evalue": "name 'Basemap' is not defined",
     "output_type": "error",
     "traceback": [
      "\u001b[0;31m---------------------------------------------------------------------------\u001b[0m",
      "\u001b[0;31mNameError\u001b[0m                                 Traceback (most recent call last)",
      "\u001b[0;32m<ipython-input-11-1c568d2966c8>\u001b[0m in \u001b[0;36m<module>\u001b[0;34m()\u001b[0m\n\u001b[1;32m      3\u001b[0m                               \u001b[0mmpl\u001b[0m\u001b[0;34m.\u001b[0m\u001b[0mcm\u001b[0m\u001b[0;34m.\u001b[0m\u001b[0mbinary\u001b[0m\u001b[0;34m,\u001b[0m\u001b[0;34m\u001b[0m\u001b[0m\n\u001b[1;32m      4\u001b[0m                               \u001b[0mNormalize\u001b[0m\u001b[0;34m(\u001b[0m\u001b[0;36m0\u001b[0m\u001b[0;34m,\u001b[0m \u001b[0mstate_counts\u001b[0m\u001b[0;34m.\u001b[0m\u001b[0mmax\u001b[0m\u001b[0;34m(\u001b[0m\u001b[0;34m)\u001b[0m\u001b[0;34m)\u001b[0m\u001b[0;34m,\u001b[0m\u001b[0;34m\u001b[0m\u001b[0m\n\u001b[0;32m----> 5\u001b[0;31m                               default=None)\n\u001b[0m\u001b[1;32m      6\u001b[0m \u001b[0max\u001b[0m\u001b[0;34m.\u001b[0m\u001b[0mset_title\u001b[0m\u001b[0;34m(\u001b[0m\u001b[0;34m\"Number of poll respondents\"\u001b[0m\u001b[0;34m)\u001b[0m\u001b[0;34m;\u001b[0m\u001b[0;34m\u001b[0m\u001b[0m\n",
      "\u001b[0;32m<ipython-input-10-e9e4d47d5f4b>\u001b[0m in \u001b[0;36mstate_plot\u001b[0;34m(state_data, cmap, norm, cbar, default, ax)\u001b[0m\n\u001b[1;32m      6\u001b[0m         \u001b[0mfig\u001b[0m \u001b[0;34m=\u001b[0m \u001b[0mplt\u001b[0m\u001b[0;34m.\u001b[0m\u001b[0mgcf\u001b[0m\u001b[0;34m(\u001b[0m\u001b[0;34m)\u001b[0m\u001b[0;34m\u001b[0m\u001b[0m\n\u001b[1;32m      7\u001b[0m \u001b[0;34m\u001b[0m\u001b[0m\n\u001b[0;32m----> 8\u001b[0;31m     m = Basemap(llcrnrlon=-121, llcrnrlat=20,\n\u001b[0m\u001b[1;32m      9\u001b[0m                 \u001b[0murcrnrlon\u001b[0m\u001b[0;34m=\u001b[0m\u001b[0;34m-\u001b[0m\u001b[0;36m62\u001b[0m\u001b[0;34m,\u001b[0m \u001b[0murcrnrlat\u001b[0m\u001b[0;34m=\u001b[0m\u001b[0;36m51\u001b[0m\u001b[0;34m,\u001b[0m\u001b[0;34m\u001b[0m\u001b[0m\n\u001b[1;32m     10\u001b[0m                 \u001b[0mprojection\u001b[0m\u001b[0;34m=\u001b[0m\u001b[0;34m'lcc'\u001b[0m\u001b[0;34m,\u001b[0m\u001b[0;34m\u001b[0m\u001b[0m\n",
      "\u001b[0;31mNameError\u001b[0m: name 'Basemap' is not defined"
     ]
    },
    {
     "data": {
      "image/png": "[encoded data removed]",
      "text/plain": [
       "<Figure size 576x432 with 1 Axes>"
      ]
     },
     "metadata": {
      "image/png": {
       "height": 360,
       "width": 491
      }
     },
     "output_type": "display_data"
    }
   ],
   "source": [
    "state_counts = survey_df.groupby('state').size()\n",
    "fig, ax, cbar_ax,ok = state_plot(state_counts,\n",
    "                              mpl.cm.binary,\n",
    "                              Normalize(0, state_counts.max()),\n",
    "                              default=None)\n",
    "ax.set_title(\"Number of poll respondents\");"
   ]
  },
  {
   "cell_type": "code",
   "execution_count": 12,
   "metadata": {
    "collapsed": true
   },
   "outputs": [],
   "source": [
    "disagg_p = (survey_df.groupby('state')\n",
    "                     .yes_of_all\n",
    "                     .mean())"
   ]
  },
  {
   "cell_type": "code",
   "execution_count": 13,
   "metadata": {},
   "outputs": [
    {
     "ename": "NameError",
     "evalue": "name 'Basemap' is not defined",
     "output_type": "error",
     "traceback": [
      "\u001b[0;31m---------------------------------------------------------------------------\u001b[0m",
      "\u001b[0;31mNameError\u001b[0m                                 Traceback (most recent call last)",
      "\u001b[0;32m<ipython-input-13-8c3336ce3124>\u001b[0m in \u001b[0;36m<module>\u001b[0;34m()\u001b[0m\n\u001b[1;32m      2\u001b[0m \u001b[0mp_cmap\u001b[0m \u001b[0;34m=\u001b[0m \u001b[0msns\u001b[0m\u001b[0;34m.\u001b[0m\u001b[0mdiverging_palette\u001b[0m\u001b[0;34m(\u001b[0m\u001b[0;36m220\u001b[0m\u001b[0;34m,\u001b[0m \u001b[0;36m10\u001b[0m\u001b[0;34m,\u001b[0m \u001b[0mas_cmap\u001b[0m\u001b[0;34m=\u001b[0m\u001b[0;32mTrue\u001b[0m\u001b[0;34m)\u001b[0m\u001b[0;34m\u001b[0m\u001b[0m\n\u001b[1;32m      3\u001b[0m \u001b[0;34m\u001b[0m\u001b[0m\n\u001b[0;32m----> 4\u001b[0;31m \u001b[0mfig\u001b[0m\u001b[0;34m,\u001b[0m \u001b[0max\u001b[0m\u001b[0;34m,\u001b[0m \u001b[0mcbar_ax\u001b[0m\u001b[0;34m,\u001b[0m\u001b[0mok\u001b[0m \u001b[0;34m=\u001b[0m \u001b[0mstate_plot\u001b[0m\u001b[0;34m(\u001b[0m\u001b[0mdisagg_p\u001b[0m\u001b[0;34m,\u001b[0m \u001b[0mp_cmap\u001b[0m\u001b[0;34m,\u001b[0m \u001b[0mp_norm\u001b[0m\u001b[0;34m)\u001b[0m\u001b[0;34m\u001b[0m\u001b[0m\n\u001b[0m\u001b[1;32m      5\u001b[0m \u001b[0;34m\u001b[0m\u001b[0m\n\u001b[1;32m      6\u001b[0m \u001b[0mp_formatter\u001b[0m \u001b[0;34m=\u001b[0m \u001b[0mFuncFormatter\u001b[0m\u001b[0;34m(\u001b[0m\u001b[0;32mlambda\u001b[0m \u001b[0mprop\u001b[0m\u001b[0;34m,\u001b[0m \u001b[0m_\u001b[0m\u001b[0;34m:\u001b[0m \u001b[0;34m'{:.1%}'\u001b[0m\u001b[0;34m.\u001b[0m\u001b[0mformat\u001b[0m\u001b[0;34m(\u001b[0m\u001b[0mp_norm\u001b[0m\u001b[0;34m.\u001b[0m\u001b[0minverse\u001b[0m\u001b[0;34m(\u001b[0m\u001b[0mprop\u001b[0m\u001b[0;34m)\u001b[0m\u001b[0;34m)\u001b[0m\u001b[0;34m)\u001b[0m\u001b[0;34m\u001b[0m\u001b[0m\n",
      "\u001b[0;32m<ipython-input-10-e9e4d47d5f4b>\u001b[0m in \u001b[0;36mstate_plot\u001b[0;34m(state_data, cmap, norm, cbar, default, ax)\u001b[0m\n\u001b[1;32m      6\u001b[0m         \u001b[0mfig\u001b[0m \u001b[0;34m=\u001b[0m \u001b[0mplt\u001b[0m\u001b[0;34m.\u001b[0m\u001b[0mgcf\u001b[0m\u001b[0;34m(\u001b[0m\u001b[0;34m)\u001b[0m\u001b[0;34m\u001b[0m\u001b[0m\n\u001b[1;32m      7\u001b[0m \u001b[0;34m\u001b[0m\u001b[0m\n\u001b[0;32m----> 8\u001b[0;31m     m = Basemap(llcrnrlon=-121, llcrnrlat=20,\n\u001b[0m\u001b[1;32m      9\u001b[0m                 \u001b[0murcrnrlon\u001b[0m\u001b[0;34m=\u001b[0m\u001b[0;34m-\u001b[0m\u001b[0;36m62\u001b[0m\u001b[0;34m,\u001b[0m \u001b[0murcrnrlat\u001b[0m\u001b[0;34m=\u001b[0m\u001b[0;36m51\u001b[0m\u001b[0;34m,\u001b[0m\u001b[0;34m\u001b[0m\u001b[0m\n\u001b[1;32m     10\u001b[0m                 \u001b[0mprojection\u001b[0m\u001b[0;34m=\u001b[0m\u001b[0;34m'lcc'\u001b[0m\u001b[0;34m,\u001b[0m\u001b[0;34m\u001b[0m\u001b[0m\n",
      "\u001b[0;31mNameError\u001b[0m: name 'Basemap' is not defined"
     ]
    },
    {
     "data": {
      "image/png": "[encoded data removed]",
      "text/plain": [
       "<Figure size 576x432 with 1 Axes>"
      ]
     },
     "metadata": {
      "image/png": {
       "height": 360,
       "width": 491
      }
     },
     "output_type": "display_data"
    }
   ],
   "source": [
    "p_norm = Normalize(0., 0.6)\n",
    "p_cmap = sns.diverging_palette(220, 10, as_cmap=True)\n",
    "\n",
    "fig, ax, cbar_ax,ok = state_plot(disagg_p, p_cmap, p_norm)\n",
    "\n",
    "p_formatter = FuncFormatter(lambda prop, _: '{:.1%}'.format(p_norm.inverse(prop)))\n",
    "cbar_ax.yaxis.set_major_formatter(p_formatter);\n",
    "\n",
    "ax.set_title(\"Disaggregation estimate of\\nsupport for gay marriage in 2005\");\n",
    "plt.savefig('test2.png')"
   ]
  },
  {
   "cell_type": "code",
   "execution_count": 14,
   "metadata": {},
   "outputs": [
    {
     "ename": "SyntaxError",
     "evalue": "Missing parentheses in call to 'print'. Did you mean print('ok')? (<ipython-input-14-aa0e833a8f26>, line 17)",
     "output_type": "error",
     "traceback": [
      "\u001b[0;36m  File \u001b[0;32m\"<ipython-input-14-aa0e833a8f26>\"\u001b[0;36m, line \u001b[0;32m17\u001b[0m\n\u001b[0;31m    print 'ok'\u001b[0m\n\u001b[0m             ^\u001b[0m\n\u001b[0;31mSyntaxError\u001b[0m\u001b[0;31m:\u001b[0m Missing parentheses in call to 'print'. Did you mean print('ok')?\n"
     ]
    }
   ],
   "source": [
    "ax = (survey_df.groupby(['state', 'female', 'race_wbh'])\n",
    "               .size()\n",
    "               .unstack(level=['female', 'race_wbh'])\n",
    "               .isnull()\n",
    "               .sum()\n",
    "               .unstack(level='female')\n",
    "               .rename(index={0: 'White', 1: 'Black', 2: 'Hispanic'},\n",
    "                       columns={0: 'Male', 1: 'Female'})\n",
    "               .rename_axis('Race', axis=0)\n",
    "               .rename_axis('Gender', axis=1)\n",
    "               .plot(kind='bar', rot=0, figsize=(8, 6)))\n",
    "\n",
    "ax.set_yticks(np.arange(0, 21, 5));\n",
    "ax.set_ylabel(\"Number of states\");\n",
    "\n",
    "ax.set_title(\"States with no respondents\");\n",
    "print 'ok'\n",
    "plt.savefig('test3.png')"
   ]
  },
  {
   "cell_type": "code",
   "execution_count": 15,
   "metadata": {},
   "outputs": [
    {
     "name": "stderr",
     "output_type": "stream",
     "text": [
      "/home/leexa/anaconda3/lib/python3.6/site-packages/ipykernel_launcher.py:6: FutureWarning: using a dict on a Series for aggregation\n",
      "is deprecated and will be removed in a future version\n",
      "  \n"
     ]
    }
   ],
   "source": [
    "uniq_survey_df = (survey_df.groupby(['race_wbh', 'female', 'edu_cat', 'age_cat',\n",
    "                                     'region_cat', 'state_initnum', 'poll'])\n",
    "                           .yes_of_all\n",
    "                           .agg({\n",
    "                               'yes_of_all': 'sum',\n",
    "                               'n': 'size'\n",
    "                           })\n",
    "                           .reset_index())"
   ]
  },
  {
   "cell_type": "code",
   "execution_count": 17,
   "metadata": {},
   "outputs": [
    {
     "data": {
      "text/plain": [
       "0.5824002523261316"
      ]
     },
     "execution_count": 17,
     "metadata": {},
     "output_type": "execute_result"
    }
   ],
   "source": [
    "uniq_survey_df.shape[0] / survey_df.shape[0]"
   ]
  },
  {
   "cell_type": "code",
   "execution_count": 18,
   "metadata": {
    "collapsed": true
   },
   "outputs": [],
   "source": [
    "def encode_gender_race(female, race_wbh):\n",
    "    return (3 * female + race_wbh).values\n",
    "\n",
    "def encode_age_edu(age, edu):\n",
    "    return (4 * age + edu).values"
   ]
  },
  {
   "cell_type": "code",
   "execution_count": 19,
   "metadata": {
    "collapsed": true
   },
   "outputs": [],
   "source": [
    "gender_race = encode_gender_race(uniq_survey_df.female, uniq_survey_df.race_wbh)\n",
    "n_gender_race = np.unique(gender_race).size\n",
    "\n",
    "age = uniq_survey_df.age_cat.values\n",
    "n_age = np.unique(age).size\n",
    "\n",
    "edu = uniq_survey_df.edu_cat.values\n",
    "n_edu = np.unique(edu).size\n",
    "\n",
    "age_edu = encode_age_edu(uniq_survey_df.age_cat, uniq_survey_df.edu_cat)\n",
    "n_age_edu = np.unique(age_edu).size\n",
    "\n",
    "poll, poll_map = uniq_survey_df.poll.factorize()\n",
    "n_poll = poll_map.size\n",
    "\n",
    "region = uniq_survey_df.region_cat.values\n",
    "n_region = np.unique(region).size\n",
    "\n",
    "state = uniq_survey_df.state_initnum.values\n",
    "n_state = 51\n",
    "\n",
    "n = uniq_survey_df.n.values\n",
    "yes_of_all = uniq_survey_df.yes_of_all.values"
   ]
  },
  {
   "cell_type": "code",
   "execution_count": 20,
   "metadata": {
    "collapsed": true
   },
   "outputs": [],
   "source": [
    "STATE_URL = 'http://www.princeton.edu/~jkastell/MRP_primer/state_level_update.dta'\n",
    "\n",
    "state_df = (pd.read_stata(STATE_URL,\n",
    "                          columns=['sstate_initnum', 'sstate',\n",
    "                                   'p_evang', 'p_mormon', 'kerry_04'])\n",
    "              .rename(columns={'sstate_initnum': 'state_initnum', 'sstate': 'state'})\n",
    "              .assign(state_initnum=to_zero_indexed('state_initnum'),\n",
    "                      p_relig=lambda df: df.p_evang + df.p_mormon))\n",
    "state_kerry = sp.special.logit(state_df.kerry_04.values / 100.)\n",
    "state_relig = sp.special.logit(state_df.p_relig.values / 100.)"
   ]
  },
  {
   "cell_type": "code",
   "execution_count": 23,
   "metadata": {},
   "outputs": [
    {
     "name": "stdout",
     "output_type": "stream",
     "text": [
      "   state_initnum state    p_evang  p_mormon   kerry_04    p_relig\n",
      "0              0    AK  12.440000  3.003126  35.500000  15.443126\n",
      "1              1    AL  40.549999  0.458273  36.799999  41.008274\n",
      "2              2    AR  43.070000  0.560113  44.599998  43.630112\n",
      "3              3    AZ   9.410000  4.878735  44.400002  14.288734\n",
      "4              4    CA   7.160000  1.557627  54.299999   8.717627\n",
      "[-0.5971325  -0.5408064  -0.21684584 -0.22494373  0.17242591 -0.12014428\n",
      "  0.17242591  2.1113343   0.13621034 -0.11613048 -0.34745377  0.16034272\n",
      " -0.03200272 -0.83305264  0.19259298 -0.43471918 -0.5494156  -0.41798085\n",
      " -0.3145684   0.48530596  0.2371047   0.14424965  0.04800928  0.04400703\n",
      " -0.15631762 -0.4138054  -0.46415764 -0.25741208 -0.5971325  -0.72178507\n",
      "  0.00800023  0.11613055 -0.03600393 -0.08404952  0.33921573 -0.05201171\n",
      " -0.6455192   0.05601461  0.03600385  0.3805263  -0.3681008  -0.47260445\n",
      " -0.30228078 -0.4810679  -1.0459687  -0.18048827  0.35983294  0.11211724\n",
      " -0.01200015 -0.27369577 -0.8905322 ]\n",
      "[0.355      0.368      0.44599998 0.444      0.543      0.47\n",
      " 0.543      0.89199996 0.53400004 0.471      0.414      0.54\n",
      " 0.492      0.303      0.548      0.393      0.366      0.397\n",
      " 0.42200002 0.619      0.559      0.536      0.512      0.511\n",
      " 0.461      0.398      0.38599998 0.436      0.355      0.32700002\n",
      " 0.50200003 0.52900004 0.491      0.479      0.584      0.48700002\n",
      " 0.344      0.514      0.509      0.59400004 0.409      0.384\n",
      " 0.425      0.382      0.26       0.455      0.589      0.528\n",
      " 0.497      0.432      0.291     ]\n"
     ]
    }
   ],
   "source": [
    "print (state_df.head())\n",
    "print (state_kerry)\n",
    "print (state_df.kerry_04.values / 100.)"
   ]
  },
  {
   "cell_type": "code",
   "execution_count": 24,
   "metadata": {
    "collapsed": true
   },
   "outputs": [],
   "source": [
    "CENSUS_URL = 'http://www.princeton.edu/~jkastell/MRP_primer/poststratification%202000.dta'\n",
    "\n",
    "census_df = (pd.read_stata(CENSUS_URL)\n",
    "               .rename(columns=lambda s: s.lstrip('c_').lower())\n",
    "               .assign(race_wbh=to_zero_indexed('race_wbh'),\n",
    "                       edu_cat=to_zero_indexed('edu_cat'),\n",
    "                       age_cat=to_zero_indexed('age_cat')))"
   ]
  },
  {
   "cell_type": "code",
   "execution_count": 25,
   "metadata": {},
   "outputs": [
    {
     "data": {
      "text/html": [
       "<div>\n",
       "<style scoped>\n",
       "    .dataframe tbody tr th:only-of-type {\n",
       "        vertical-align: middle;\n",
       "    }\n",
       "\n",
       "    .dataframe tbody tr th {\n",
       "        vertical-align: top;\n",
       "    }\n",
       "\n",
       "    .dataframe thead th {\n",
       "        text-align: right;\n",
       "    }\n",
       "</style>\n",
       "<table border=\"1\" class=\"dataframe\">\n",
       "  <thead>\n",
       "    <tr style=\"text-align: right;\">\n",
       "      <th></th>\n",
       "      <th>race_wbh</th>\n",
       "      <th>age_cat</th>\n",
       "      <th>edu_cat</th>\n",
       "      <th>female</th>\n",
       "      <th>state</th>\n",
       "      <th>freq</th>\n",
       "      <th>freq_state</th>\n",
       "      <th>percent_state</th>\n",
       "      <th>region</th>\n",
       "    </tr>\n",
       "  </thead>\n",
       "  <tbody>\n",
       "    <tr>\n",
       "      <th>0</th>\n",
       "      <td>0</td>\n",
       "      <td>0</td>\n",
       "      <td>0</td>\n",
       "      <td>0</td>\n",
       "      <td>AK</td>\n",
       "      <td>467</td>\n",
       "      <td>21222.0</td>\n",
       "      <td>0.022005</td>\n",
       "      <td>west</td>\n",
       "    </tr>\n",
       "    <tr>\n",
       "      <th>1</th>\n",
       "      <td>0</td>\n",
       "      <td>1</td>\n",
       "      <td>0</td>\n",
       "      <td>0</td>\n",
       "      <td>AK</td>\n",
       "      <td>377</td>\n",
       "      <td>21222.0</td>\n",
       "      <td>0.017765</td>\n",
       "      <td>west</td>\n",
       "    </tr>\n",
       "    <tr>\n",
       "      <th>2</th>\n",
       "      <td>0</td>\n",
       "      <td>2</td>\n",
       "      <td>0</td>\n",
       "      <td>0</td>\n",
       "      <td>AK</td>\n",
       "      <td>419</td>\n",
       "      <td>21222.0</td>\n",
       "      <td>0.019744</td>\n",
       "      <td>west</td>\n",
       "    </tr>\n",
       "    <tr>\n",
       "      <th>3</th>\n",
       "      <td>0</td>\n",
       "      <td>3</td>\n",
       "      <td>0</td>\n",
       "      <td>0</td>\n",
       "      <td>AK</td>\n",
       "      <td>343</td>\n",
       "      <td>21222.0</td>\n",
       "      <td>0.016162</td>\n",
       "      <td>west</td>\n",
       "    </tr>\n",
       "    <tr>\n",
       "      <th>4</th>\n",
       "      <td>0</td>\n",
       "      <td>0</td>\n",
       "      <td>1</td>\n",
       "      <td>0</td>\n",
       "      <td>AK</td>\n",
       "      <td>958</td>\n",
       "      <td>21222.0</td>\n",
       "      <td>0.045142</td>\n",
       "      <td>west</td>\n",
       "    </tr>\n",
       "  </tbody>\n",
       "</table>\n",
       "</div>"
      ],
      "text/plain": [
       "   race_wbh  age_cat  edu_cat  female state  freq  freq_state  percent_state  \\\n",
       "0         0        0        0       0    AK   467     21222.0       0.022005   \n",
       "1         0        1        0       0    AK   377     21222.0       0.017765   \n",
       "2         0        2        0       0    AK   419     21222.0       0.019744   \n",
       "3         0        3        0       0    AK   343     21222.0       0.016162   \n",
       "4         0        0        1       0    AK   958     21222.0       0.045142   \n",
       "\n",
       "  region  \n",
       "0   west  \n",
       "1   west  \n",
       "2   west  \n",
       "3   west  \n",
       "4   west  "
      ]
     },
     "execution_count": 25,
     "metadata": {},
     "output_type": "execute_result"
    }
   ],
   "source": [
    "census_df.head()"
   ]
  },
  {
   "cell_type": "code",
   "execution_count": 26,
   "metadata": {
    "collapsed": true
   },
   "outputs": [],
   "source": [
    "state_df = (pd.merge(\n",
    "                pd.merge((survey_df.groupby('region')\n",
    "                                   .region_cat\n",
    "                                   .first()\n",
    "                                   .reset_index()),\n",
    "                          (census_df[['state', 'region']].drop_duplicates()),\n",
    "                          on='region')[['state', 'region_cat']],\n",
    "                 state_df, on='state')\n",
    "               .set_index('state_initnum')\n",
    "               .sort_index())"
   ]
  },
  {
   "cell_type": "code",
   "execution_count": 27,
   "metadata": {},
   "outputs": [
    {
     "data": {
      "text/html": [
       "<div>\n",
       "<style scoped>\n",
       "    .dataframe tbody tr th:only-of-type {\n",
       "        vertical-align: middle;\n",
       "    }\n",
       "\n",
       "    .dataframe tbody tr th {\n",
       "        vertical-align: top;\n",
       "    }\n",
       "\n",
       "    .dataframe thead th {\n",
       "        text-align: right;\n",
       "    }\n",
       "</style>\n",
       "<table border=\"1\" class=\"dataframe\">\n",
       "  <thead>\n",
       "    <tr style=\"text-align: right;\">\n",
       "      <th></th>\n",
       "      <th>state</th>\n",
       "      <th>region_cat</th>\n",
       "      <th>p_evang</th>\n",
       "      <th>p_mormon</th>\n",
       "      <th>kerry_04</th>\n",
       "      <th>p_relig</th>\n",
       "    </tr>\n",
       "    <tr>\n",
       "      <th>state_initnum</th>\n",
       "      <th></th>\n",
       "      <th></th>\n",
       "      <th></th>\n",
       "      <th></th>\n",
       "      <th></th>\n",
       "      <th></th>\n",
       "    </tr>\n",
       "  </thead>\n",
       "  <tbody>\n",
       "    <tr>\n",
       "      <th>0</th>\n",
       "      <td>AK</td>\n",
       "      <td>3</td>\n",
       "      <td>12.440000</td>\n",
       "      <td>3.003126</td>\n",
       "      <td>35.500000</td>\n",
       "      <td>15.443126</td>\n",
       "    </tr>\n",
       "    <tr>\n",
       "      <th>1</th>\n",
       "      <td>AL</td>\n",
       "      <td>2</td>\n",
       "      <td>40.549999</td>\n",
       "      <td>0.458273</td>\n",
       "      <td>36.799999</td>\n",
       "      <td>41.008274</td>\n",
       "    </tr>\n",
       "    <tr>\n",
       "      <th>2</th>\n",
       "      <td>AR</td>\n",
       "      <td>2</td>\n",
       "      <td>43.070000</td>\n",
       "      <td>0.560113</td>\n",
       "      <td>44.599998</td>\n",
       "      <td>43.630112</td>\n",
       "    </tr>\n",
       "    <tr>\n",
       "      <th>3</th>\n",
       "      <td>AZ</td>\n",
       "      <td>3</td>\n",
       "      <td>9.410000</td>\n",
       "      <td>4.878735</td>\n",
       "      <td>44.400002</td>\n",
       "      <td>14.288734</td>\n",
       "    </tr>\n",
       "    <tr>\n",
       "      <th>4</th>\n",
       "      <td>CA</td>\n",
       "      <td>3</td>\n",
       "      <td>7.160000</td>\n",
       "      <td>1.557627</td>\n",
       "      <td>54.299999</td>\n",
       "      <td>8.717627</td>\n",
       "    </tr>\n",
       "  </tbody>\n",
       "</table>\n",
       "</div>"
      ],
      "text/plain": [
       "              state  region_cat    p_evang  p_mormon   kerry_04    p_relig\n",
       "state_initnum                                                             \n",
       "0                AK           3  12.440000  3.003126  35.500000  15.443126\n",
       "1                AL           2  40.549999  0.458273  36.799999  41.008274\n",
       "2                AR           2  43.070000  0.560113  44.599998  43.630112\n",
       "3                AZ           3   9.410000  4.878735  44.400002  14.288734\n",
       "4                CA           3   7.160000  1.557627  54.299999   8.717627"
      ]
     },
     "execution_count": 27,
     "metadata": {},
     "output_type": "execute_result"
    }
   ],
   "source": [
    "state_df.head()"
   ]
  },
  {
   "cell_type": "code",
   "execution_count": 28,
   "metadata": {
    "collapsed": true
   },
   "outputs": [],
   "source": [
    "state_region = state_df.region_cat.values"
   ]
  },
  {
   "cell_type": "code",
   "execution_count": 29,
   "metadata": {
    "collapsed": true
   },
   "outputs": [],
   "source": [
    "gender_race_ = shared(gender_race)\n",
    "age_ = shared(age)\n",
    "edu_ = shared(edu)\n",
    "age_edu_ = shared(age_edu)\n",
    "poll_ = shared(poll)\n",
    "state_ = shared(state)\n",
    "use_poll_ = shared(1)\n",
    "n_ = shared(n)"
   ]
  },
  {
   "cell_type": "code",
   "execution_count": 30,
   "metadata": {},
   "outputs": [],
   "source": [
    "def hierarchical_normal(name, shape, μ=0.):\n",
    "    Δ = pm.Normal('Δ_{}'.format(name), 0., 1., shape=shape)\n",
    "    σ = pm.HalfCauchy('σ_{}'.format(name), 5.)\n",
    "    \n",
    "    return pm.Deterministic(name, μ + Δ * σ)"
   ]
  },
  {
   "cell_type": "code",
   "execution_count": null,
   "metadata": {
    "collapsed": true
   },
   "outputs": [],
   "source": []
  }
 ],
 "metadata": {
  "kernelspec": {
   "display_name": "Python 3",
   "language": "python",
   "name": "python3"
  },
  "language_info": {
   "codemirror_mode": {
    "name": "ipython",
    "version": 3
   },
   "file_extension": ".py",
   "mimetype": "text/x-python",
   "name": "python",
   "nbconvert_exporter": "python",
   "pygments_lexer": "ipython3",
   "version": "3.6.3"
  }
 },
 "nbformat": 4,
 "nbformat_minor": 2
}
