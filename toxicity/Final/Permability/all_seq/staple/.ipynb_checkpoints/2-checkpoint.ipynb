{
 "cells": [
  {
   "cell_type": "markdown",
   "metadata": {},
   "source": [
    "---\n",
    "title: MRPyMC3: Multilevel Regression and Poststratification with PyMC3\n",
    "tags: PyMC3, Bayesian Statistics\n",
    "---"
   ]
  },
  {
   "cell_type": "markdown",
   "metadata": {},
   "source": [
    "A few weeks ago, [YouGov](https://today.yougov.com/) correctly [predicted](https://yougov.co.uk/uk-general-election-2017/#/uk-elections-charts-anchor) a hung parliament as a result of the 2017 UK general election, to the astonishment of many commentators.  YouGov's predictions were [based](https://yougov.co.uk/news/2017/05/31/how-yougov-model-2017-general-election-works/) on a technique called multilevel regression with poststratification, or MRP for short (Andrew Gelman playfully refers to it as [Mister P](http://andrewgelman.com/2009/05/09/the_next_suprem/)).\n",
    "\n",
    "I was impressed with YouGov's prediction and decided to work through an MRP example to improve my understanding of this technique.  Since all of the applications of MRP I have found online involve `R`'s [`lme4`](https://cran.r-project.org/web/packages/lme4/index.html) package or [Stan](http://mc-stan.org/), I also thought this was a good opportunity to illustrate MRP in Python with PyMC3.  This post is essentially a port of [Jonathan Kastellec](http://www.princeton.edu/~jkastell/)'s excellent [MRP primer](http://www.princeton.edu/~jkastell/mrp_primer.html) to Python and PyMC3.  I am very grateful for his clear exposition of MRP and willingness to share a relevant data set.\n",
    "\n",
    "MRP was developed to estimate American state-level opinions from national polls.  This sort of estimation is crucial to understanding American politics at the national level, as many of the important political positions of the federal government are impacted by state-level elections:\n",
    "\n",
    "* the president is chosen by the Electoral College, which (with a few exceptions) votes according to state-level vote totals,\n",
    "* senators are chosen by state-level elections,\n",
    "* many political and all judicial (notably Supreme Court) appointees require Senate approval, and therefore are subject to indirect state-level elections.\n",
    "\n",
    "Of course, as YouGov demonstrates, MRP is more widely applicable than estimation of state-level opinion.\n",
    "\n",
    "In this post, we will follow Kastellec's example of estimating state-level opinion about gay marriage in 2005/2006 using a combination of three national polls.  We begin by loading a data set that consists of repsonses to the three national polls."
   ]
  },
  {
   "cell_type": "code",
   "execution_count": 1,
   "metadata": {
    "collapsed": true
   },
   "outputs": [],
   "source": [
    "%matplotlib inline\n",
    "#%config InlineBackend.figure_format = 'retina'"
   ]
  },
  {
   "cell_type": "code",
   "execution_count": 2,
   "metadata": {
    "collapsed": true
   },
   "outputs": [],
   "source": [
    "import os\n",
    "import us"
   ]
  },
  {
   "cell_type": "code",
   "execution_count": 3,
   "metadata": {},
   "outputs": [
    {
     "name": "stderr",
     "output_type": "stream",
     "text": [
      "/home/leexa/anaconda3/lib/python3.6/site-packages/h5py/__init__.py:36: FutureWarning: Conversion of the second argument of issubdtype from `float` to `np.floating` is deprecated. In future, it will be treated as `np.float64 == np.dtype(float).type`.\n",
      "  from ._conv import register_converters as _register_converters\n"
     ]
    }
   ],
   "source": [
    "import matplotlib as mpl\n",
    "from matplotlib import pyplot as plt\n",
    "from matplotlib.colors import Normalize, rgb2hex\n",
    "from matplotlib.patches import Polygon\n",
    "from matplotlib.ticker import FuncFormatter\n",
    "#from mpl_toolkits.basemap import Basemap\n",
    "import numpy as np\n",
    "import pandas as pd\n",
    "import pymc3 as pm\n",
    "import scipy as sp\n",
    "import seaborn as sns\n",
    "from theano import shared"
   ]
  },
  {
   "cell_type": "code",
   "execution_count": 4,
   "metadata": {
    "collapsed": true
   },
   "outputs": [],
   "source": [
    "%%bash\n",
    "if [ ! -e ./st99_d00.dbf ];\n",
    "then\n",
    "    wget -q https://github.com/matplotlib/basemap/raw/master/examples/st99_d00.dbf\n",
    "    wget -q https://github.com/matplotlib/basemap/raw/master/examples/st99_d00.shp\n",
    "    wget -q https://github.com/matplotlib/basemap/raw/master/examples/st99_d00.shx\n",
    "fi"
   ]
  },
  {
   "cell_type": "code",
   "execution_count": 5,
   "metadata": {
    "collapsed": true
   },
   "outputs": [],
   "source": [
    "SEED = 42600268 # from random.org, for reproducibility\n",
    "\n",
    "np.random.seed(SEED)"
   ]
  },
  {
   "cell_type": "markdown",
   "metadata": {},
   "source": [
    "We load only the columns which we will use in the analysis and transform categorical variables to be zero-indexed."
   ]
  },
  {
   "cell_type": "code",
   "execution_count": 6,
   "metadata": {
    "collapsed": true
   },
   "outputs": [],
   "source": [
    "def to_zero_indexed(col):\n",
    "    return lambda df: (df[col] - 1).astype(np.int64)"
   ]
  },
  {
   "cell_type": "code",
   "execution_count": 7,
   "metadata": {
    "collapsed": true
   },
   "outputs": [],
   "source": [
    "DATA_PREFIX = 'http://www.princeton.edu/~jkastell/MRP_primer/'\n",
    "\n",
    "survey_df = (pd.read_stata(os.path.join(DATA_PREFIX, 'gay_marriage_megapoll.dta'),\n",
    "                           columns=['race_wbh', 'age_cat', 'edu_cat', 'female',\n",
    "                                    'state_initnum', 'state', 'region_cat', 'region', 'statename',\n",
    "                                    'poll', 'yes_of_all'])\n",
    "               .dropna(subset=['race_wbh', 'age_cat', 'edu_cat', 'state_initnum'])\n",
    "               .assign(state_initnum=to_zero_indexed('state_initnum'),\n",
    "                       race_wbh=to_zero_indexed('race_wbh'),\n",
    "                       edu_cat=to_zero_indexed('edu_cat'),\n",
    "                       age_cat=to_zero_indexed('age_cat'),\n",
    "                       region_cat=to_zero_indexed('region_cat')))"
   ]
  },
  {
   "cell_type": "code",
   "execution_count": 8,
   "metadata": {},
   "outputs": [
    {
     "data": {
      "text/html": [
       "<div>\n",
       "<style scoped>\n",
       "    .dataframe tbody tr th:only-of-type {\n",
       "        vertical-align: middle;\n",
       "    }\n",
       "\n",
       "    .dataframe tbody tr th {\n",
       "        vertical-align: top;\n",
       "    }\n",
       "\n",
       "    .dataframe thead th {\n",
       "        text-align: right;\n",
       "    }\n",
       "</style>\n",
       "<table border=\"1\" class=\"dataframe\">\n",
       "  <thead>\n",
       "    <tr style=\"text-align: right;\">\n",
       "      <th></th>\n",
       "      <th>race_wbh</th>\n",
       "      <th>age_cat</th>\n",
       "      <th>edu_cat</th>\n",
       "      <th>female</th>\n",
       "      <th>state_initnum</th>\n",
       "      <th>state</th>\n",
       "      <th>region_cat</th>\n",
       "      <th>region</th>\n",
       "      <th>statename</th>\n",
       "      <th>poll</th>\n",
       "      <th>yes_of_all</th>\n",
       "    </tr>\n",
       "  </thead>\n",
       "  <tbody>\n",
       "    <tr>\n",
       "      <th>0</th>\n",
       "      <td>0</td>\n",
       "      <td>2</td>\n",
       "      <td>2</td>\n",
       "      <td>1</td>\n",
       "      <td>22</td>\n",
       "      <td>MI</td>\n",
       "      <td>1</td>\n",
       "      <td>midwest</td>\n",
       "      <td>michigan</td>\n",
       "      <td>Gall2005Aug22</td>\n",
       "      <td>0</td>\n",
       "    </tr>\n",
       "    <tr>\n",
       "      <th>1</th>\n",
       "      <td>0</td>\n",
       "      <td>2</td>\n",
       "      <td>3</td>\n",
       "      <td>0</td>\n",
       "      <td>10</td>\n",
       "      <td>GA</td>\n",
       "      <td>2</td>\n",
       "      <td>south</td>\n",
       "      <td>georgia</td>\n",
       "      <td>Gall2005Aug22</td>\n",
       "      <td>0</td>\n",
       "    </tr>\n",
       "    <tr>\n",
       "      <th>2</th>\n",
       "      <td>2</td>\n",
       "      <td>0</td>\n",
       "      <td>3</td>\n",
       "      <td>0</td>\n",
       "      <td>34</td>\n",
       "      <td>NY</td>\n",
       "      <td>0</td>\n",
       "      <td>northeast</td>\n",
       "      <td>new york</td>\n",
       "      <td>Gall2005Aug22</td>\n",
       "      <td>1</td>\n",
       "    </tr>\n",
       "    <tr>\n",
       "      <th>3</th>\n",
       "      <td>0</td>\n",
       "      <td>3</td>\n",
       "      <td>3</td>\n",
       "      <td>1</td>\n",
       "      <td>30</td>\n",
       "      <td>NH</td>\n",
       "      <td>0</td>\n",
       "      <td>northeast</td>\n",
       "      <td>new hampshire</td>\n",
       "      <td>Gall2005Aug22</td>\n",
       "      <td>1</td>\n",
       "    </tr>\n",
       "    <tr>\n",
       "      <th>5</th>\n",
       "      <td>0</td>\n",
       "      <td>3</td>\n",
       "      <td>2</td>\n",
       "      <td>1</td>\n",
       "      <td>14</td>\n",
       "      <td>IL</td>\n",
       "      <td>1</td>\n",
       "      <td>midwest</td>\n",
       "      <td>illinois</td>\n",
       "      <td>Gall2005Aug22</td>\n",
       "      <td>0</td>\n",
       "    </tr>\n",
       "  </tbody>\n",
       "</table>\n",
       "</div>"
      ],
      "text/plain": [
       "   race_wbh  age_cat  edu_cat  female  state_initnum state  region_cat  \\\n",
       "0         0        2        2       1             22    MI           1   \n",
       "1         0        2        3       0             10    GA           2   \n",
       "2         2        0        3       0             34    NY           0   \n",
       "3         0        3        3       1             30    NH           0   \n",
       "5         0        3        2       1             14    IL           1   \n",
       "\n",
       "      region      statename           poll  yes_of_all  \n",
       "0    midwest       michigan  Gall2005Aug22           0  \n",
       "1      south        georgia  Gall2005Aug22           0  \n",
       "2  northeast       new york  Gall2005Aug22           1  \n",
       "3  northeast  new hampshire  Gall2005Aug22           1  \n",
       "5    midwest       illinois  Gall2005Aug22           0  "
      ]
     },
     "execution_count": 8,
     "metadata": {},
     "output_type": "execute_result"
    }
   ],
   "source": [
    "survey_df.head()"
   ]
  },
  {
   "cell_type": "markdown",
   "metadata": {},
   "source": [
    "These three surveys collected data from roughly 6,300 respondents during 2005 and 2006."
   ]
  },
  {
   "cell_type": "code",
   "execution_count": 9,
   "metadata": {},
   "outputs": [
    {
     "data": {
      "text/plain": [
       "6341"
      ]
     },
     "execution_count": 9,
     "metadata": {},
     "output_type": "execute_result"
    }
   ],
   "source": [
    "survey_df.shape[0]"
   ]
  },
  {
   "cell_type": "markdown",
   "metadata": {},
   "source": [
    "We see that the number of respondents varies widely between states."
   ]
  },
  {
   "cell_type": "code",
   "execution_count": 10,
   "metadata": {},
   "outputs": [],
   "source": [
    "def state_plot(state_data, cmap, norm, cbar=True, default=None, ax=None):\n",
    "    if ax is None:\n",
    "        fig, ax = plt.subplots(figsize=(8, 6))\n",
    "    else:\n",
    "        fig = plt.gcf()\n",
    "    return fig, ax, fig.add_axes([0.925, 0.25, 0.04, 0.5])\n",
    "\n",
    "    m = Basemap(llcrnrlon=-121, llcrnrlat=20,\n",
    "                urcrnrlon=-62, urcrnrlat=51,\n",
    "                projection='lcc',\n",
    "                lat_1=32, lat_2=45, lon_0=-95)\n",
    "    m.readshapefile('st99_d00', name='states', drawbounds=True)\n",
    "\n",
    "    for state_info, state_seg in zip(m.states_info, m.states):\n",
    "        if state_info['NAME'] == 'Alaska':\n",
    "            state_seg = list(map(lambda xy: (0.35 * xy[0] + 1100000, 0.35 * xy[1] - 1300000), state_seg))\n",
    "        elif state_info['NAME'] == 'Hawaii' and float(state_info['AREA']) > 0.005:\n",
    "            state_seg = list(map(lambda xy: (xy[0] + 5100000, xy[1] - 1400000), state_seg))\n",
    "\n",
    "        try:\n",
    "            state_datum = state_data.loc[us.states.lookup(state_info['NAME']).abbr]   \n",
    "        except KeyError:\n",
    "            state_datum = default\n",
    "        \n",
    "        if state_datum is not None:\n",
    "            color = rgb2hex(cmap(norm(state_datum))) \n",
    "\n",
    "            poly = Polygon(state_seg, facecolor=color, edgecolor='#000000')\n",
    "            ax.add_patch(poly)\n",
    "    \n",
    "    if cbar:\n",
    "        cbar_ax = fig.add_axes([0.925, 0.25, 0.04, 0.5])\n",
    "        mpl.colorbar.ColorbarBase(cbar_ax, cmap=cmap, norm=norm)\n",
    "    else:\n",
    "        cbar_ax = None\n",
    "        \n",
    "    return fig, ax, cbar_ax"
   ]
  },
  {
   "cell_type": "code",
   "execution_count": 11,
   "metadata": {
    "collapsed": true
   },
   "outputs": [],
   "source": [
    "state_counts = survey_df.groupby('state').size()"
   ]
  },
  {
   "cell_type": "code",
   "execution_count": 12,
   "metadata": {},
   "outputs": [
    {
     "data": {
      "image/png": "[encoded data removed]",
      "text/plain": [
       "<Figure size 576x432 with 2 Axes>"
      ]
     },
     "metadata": {},
     "output_type": "display_data"
    }
   ],
   "source": [
    "fig, ax, cbar_ax = state_plot(state_counts,\n",
    "                              mpl.cm.binary,\n",
    "                              Normalize(0, state_counts.max()),\n",
    "                              default=None)\n",
    "\n",
    "ax.set_title(\"Number of poll respondents\");"
   ]
  },
  {
   "cell_type": "markdown",
   "metadata": {},
   "source": [
    "Notably, there are no respondents from some less populous states, such as Alaska and Hawaii.\n",
    "\n",
    "Faced with this data set, it is inuitively appealing to estimate state-level opinion by the observed proportion of that state's respondents that supported gay marriage.  This approach is known as disaggregation."
   ]
  },
  {
   "cell_type": "code",
   "execution_count": 13,
   "metadata": {
    "collapsed": true
   },
   "outputs": [],
   "source": [
    "disagg_p = (survey_df.groupby('state')\n",
    "                     .yes_of_all\n",
    "                     .mean())"
   ]
  },
  {
   "cell_type": "code",
   "execution_count": 14,
   "metadata": {},
   "outputs": [
    {
     "data": {
      "image/png": "[encoded data removed]",
      "text/plain": [
       "<Figure size 576x432 with 2 Axes>"
      ]
     },
     "metadata": {},
     "output_type": "display_data"
    }
   ],
   "source": [
    "p_norm = Normalize(0., 0.6)\n",
    "p_cmap = sns.diverging_palette(220, 10, as_cmap=True)\n",
    "\n",
    "fig, ax, cbar_ax = state_plot(disagg_p, p_cmap, p_norm)\n",
    "\n",
    "p_formatter = FuncFormatter(lambda prop, _: '{:.1%}'.format(p_norm.inverse(prop)))\n",
    "cbar_ax.yaxis.set_major_formatter(p_formatter);\n",
    "\n",
    "ax.set_title(\"Disaggregation estimate of\\nsupport for gay marriage in 2005\");"
   ]
  },
  {
   "cell_type": "markdown",
   "metadata": {},
   "source": [
    "The simplicity of disaggregation is appealing, but it suffers from a number of drawbacks.  Obviously, it cannot estimate the state-level support for gay marriage in states with no respondents, such as Alaska and Hawaii.  Similarly, for small/low population states with some respondents, the sample size may be too small to produce reliable estimates of opinion.  This problem is exacerbated by the fact that for many issues, opinion is quite correlated with demographic factors such as age, race, education, gender, etc.  Many more states will not have sufficient sample size for each combination of these factors for the disaggregate estimate to be representative of that state's demographic compositon."
   ]
  },
  {
   "cell_type": "code",
   "execution_count": 15,
   "metadata": {
    "scrolled": false
   },
   "outputs": [
    {
     "data": {
      "image/png": "[encoded data removed]",
      "text/plain": [
       "<Figure size 576x432 with 1 Axes>"
      ]
     },
     "metadata": {},
     "output_type": "display_data"
    }
   ],
   "source": [
    "ax = (survey_df.groupby(['state', 'female', 'race_wbh'])\n",
    "               .size()\n",
    "               .unstack(level=['female', 'race_wbh'])\n",
    "               .isnull()\n",
    "               .sum()\n",
    "               .unstack(level='female')\n",
    "               .rename(index={0: 'White', 1: 'Black', 2: 'Hispanic'},\n",
    "                       columns={0: 'Male', 1: 'Female'})\n",
    "               .rename_axis('Race', axis=0)\n",
    "               .rename_axis('Gender', axis=1)\n",
    "               .plot(kind='bar', rot=0, figsize=(8, 6)))\n",
    "\n",
    "ax.set_yticks(np.arange(0, 21, 5));\n",
    "ax.set_ylabel(\"Number of states\");\n",
    "\n",
    "ax.set_title(\"States with no respondents\");"
   ]
  },
  {
   "cell_type": "markdown",
   "metadata": {},
   "source": [
    "The plot above illustrates this phenomenon; a number of states have no nonwhite male or female respondents.  Even more states will have very few such respondents.  This lack of data renders the disaggregation estimates suspect.  For further discussion and references on disaggregation (as well as an empirical comparison of disaggregation and MRP), consult Lax and Phillip's [_How Should We Estimate Public Opinion in the States?_](http://www.columbia.edu/~jrl2124/Lax%20Phillips%20-%20Estimating%20State%20Public%20Opinion.pdf).\n",
    "\n",
    "MRP lessens the impact of this per-state respondent sparsity by first building a [multilevel model](https://en.wikipedia.org/wiki/Multilevel_model) of the relationship between respondents' states and demographic characteristics to opinion, and subsequently using the predictions of this multilevel model along with census data about the demographic composition of each state to predict state-level opinion.  Intuitively, the multilevel model employed by MRP is a principled statistical method for estimating, for example, how much men in Pennsylvania share opinions with men in other states versus how much they share opinions with women in Pennsylvania.  This partial pooling at both the state- and demographic-levels helps MRP impute the opinions of groups present in states that were not surveyed.\n",
    "\n",
    "The rest of this post is focused primarily on the execution of MRP in Python with PyMC3.  For more detail on the theory and accuracy of MRP, consult the following (very incomplete) list of MRP resources:\n",
    "\n",
    "* the [MRP primer](http://www.princeton.edu/~jkastell/MRP_primer/mrp_primer.pdf) from which our example is taken,\n",
    "* Park, Gelman, and Bafumi's [_Bayesian Multilevel Estimation with Poststratification: State-Level Estimates from National Polls_](https://pdfs.semanticscholar.org/2008/bee9f8c2d7e41ac9c5c54489f41989a0d7ba.pdf), which assesses the accuracy of MRP in predicting the state-level results of the 1998 and 1992 US presidential elections,\n",
    "* Section 14.1 of Gelman and Hill's [_Data Analysis Using Regression and Multilevel/Hierarchical Models_](http://www.stat.columbia.edu/~gelman/arm/), which gives an expanded discussion of the example from the previous paper,\n",
    "* Lax and Phillips' [_How Should We Estimate Public Opinion in The States?_](http://www.columbia.edu/~jrl2124/Lax%20Phillips%20-%20Estimating%20State%20Public%20Opinion.pdf), which is also mentioned above,\n",
    "* Gelman's blog post [Mister P: What’s its secret sauce?](http://andrewgelman.com/2013/10/09/mister-p-whats-its-secret-sauce/), which is an extended discussion of several asssesments of MRP's accuracy ([1](https://academic.oup.com/pan/article-abstract/21/4/449/1544117/How-Does-Multilevel-Regression-and?redirectedFrom=fulltext), [2](http://www.columbia.edu/~jrl2124/mrp2.pdf)).\n",
    "\n",
    "Following the MRP primer, our multilevel opinion model will include factors for state, race, gender, education, age, and poll.  In order to accelerate inference, we count the number of unique combinations of these factors, along with how many respondents with each combination supported gay marriage."
   ]
  },
  {
   "cell_type": "code",
   "execution_count": 16,
   "metadata": {},
   "outputs": [
    {
     "name": "stderr",
     "output_type": "stream",
     "text": [
      "/home/leexa/anaconda3/lib/python3.6/site-packages/ipykernel_launcher.py:6: FutureWarning: using a dict on a Series for aggregation\n",
      "is deprecated and will be removed in a future version\n",
      "  \n"
     ]
    }
   ],
   "source": [
    "uniq_survey_df = (survey_df.groupby(['race_wbh', 'female', 'edu_cat', 'age_cat',\n",
    "                                     'region_cat', 'state_initnum', 'poll'])\n",
    "                           .yes_of_all\n",
    "                           .agg({\n",
    "                               'yes_of_all': 'sum',\n",
    "                               'n': 'size'\n",
    "                           })\n",
    "                           .reset_index())"
   ]
  },
  {
   "cell_type": "code",
   "execution_count": 17,
   "metadata": {},
   "outputs": [
    {
     "data": {
      "text/html": [
       "<div>\n",
       "<style scoped>\n",
       "    .dataframe tbody tr th:only-of-type {\n",
       "        vertical-align: middle;\n",
       "    }\n",
       "\n",
       "    .dataframe tbody tr th {\n",
       "        vertical-align: top;\n",
       "    }\n",
       "\n",
       "    .dataframe thead th {\n",
       "        text-align: right;\n",
       "    }\n",
       "</style>\n",
       "<table border=\"1\" class=\"dataframe\">\n",
       "  <thead>\n",
       "    <tr style=\"text-align: right;\">\n",
       "      <th></th>\n",
       "      <th>race_wbh</th>\n",
       "      <th>female</th>\n",
       "      <th>edu_cat</th>\n",
       "      <th>age_cat</th>\n",
       "      <th>region_cat</th>\n",
       "      <th>state_initnum</th>\n",
       "      <th>poll</th>\n",
       "      <th>yes_of_all</th>\n",
       "      <th>n</th>\n",
       "    </tr>\n",
       "  </thead>\n",
       "  <tbody>\n",
       "    <tr>\n",
       "      <th>0</th>\n",
       "      <td>0</td>\n",
       "      <td>0</td>\n",
       "      <td>0</td>\n",
       "      <td>0</td>\n",
       "      <td>0</td>\n",
       "      <td>6</td>\n",
       "      <td>Pew 2004Dec01</td>\n",
       "      <td>0</td>\n",
       "      <td>1</td>\n",
       "    </tr>\n",
       "    <tr>\n",
       "      <th>1</th>\n",
       "      <td>0</td>\n",
       "      <td>0</td>\n",
       "      <td>0</td>\n",
       "      <td>0</td>\n",
       "      <td>0</td>\n",
       "      <td>30</td>\n",
       "      <td>Gall2005Aug22</td>\n",
       "      <td>0</td>\n",
       "      <td>1</td>\n",
       "    </tr>\n",
       "    <tr>\n",
       "      <th>2</th>\n",
       "      <td>0</td>\n",
       "      <td>0</td>\n",
       "      <td>0</td>\n",
       "      <td>0</td>\n",
       "      <td>0</td>\n",
       "      <td>34</td>\n",
       "      <td>ABC 2004Jan15</td>\n",
       "      <td>1</td>\n",
       "      <td>1</td>\n",
       "    </tr>\n",
       "    <tr>\n",
       "      <th>3</th>\n",
       "      <td>0</td>\n",
       "      <td>0</td>\n",
       "      <td>0</td>\n",
       "      <td>0</td>\n",
       "      <td>0</td>\n",
       "      <td>38</td>\n",
       "      <td>Pew 2004Dec01</td>\n",
       "      <td>1</td>\n",
       "      <td>1</td>\n",
       "    </tr>\n",
       "    <tr>\n",
       "      <th>4</th>\n",
       "      <td>0</td>\n",
       "      <td>0</td>\n",
       "      <td>0</td>\n",
       "      <td>0</td>\n",
       "      <td>1</td>\n",
       "      <td>12</td>\n",
       "      <td>ABC 2004Jan15</td>\n",
       "      <td>0</td>\n",
       "      <td>1</td>\n",
       "    </tr>\n",
       "  </tbody>\n",
       "</table>\n",
       "</div>"
      ],
      "text/plain": [
       "   race_wbh  female  edu_cat  age_cat  region_cat  state_initnum  \\\n",
       "0         0       0        0        0           0              6   \n",
       "1         0       0        0        0           0             30   \n",
       "2         0       0        0        0           0             34   \n",
       "3         0       0        0        0           0             38   \n",
       "4         0       0        0        0           1             12   \n",
       "\n",
       "            poll  yes_of_all  n  \n",
       "0  Pew 2004Dec01           0  1  \n",
       "1  Gall2005Aug22           0  1  \n",
       "2  ABC 2004Jan15           1  1  \n",
       "3  Pew 2004Dec01           1  1  \n",
       "4  ABC 2004Jan15           0  1  "
      ]
     },
     "execution_count": 17,
     "metadata": {},
     "output_type": "execute_result"
    }
   ],
   "source": [
    "uniq_survey_df.head()"
   ]
  },
  {
   "cell_type": "markdown",
   "metadata": {},
   "source": [
    "This reduction adds negligible mathematical complexity (several Bernoulli distributions are combined into a single binomial distribution), but reduces the number of rows in the data set by nearly half."
   ]
  },
  {
   "cell_type": "code",
   "execution_count": 18,
   "metadata": {},
   "outputs": [
    {
     "data": {
      "text/plain": [
       "0.5824002523261316"
      ]
     },
     "execution_count": 18,
     "metadata": {},
     "output_type": "execute_result"
    }
   ],
   "source": [
    "uniq_survey_df.shape[0] / survey_df.shape[0]"
   ]
  },
  {
   "cell_type": "markdown",
   "metadata": {},
   "source": [
    "We will refer to each unique combination of state and demographic characteristics as a cell.  Let $n_i$ denote the number of respondents in cell $i$, $y_i$ the number of those respondents that supported gay marriage, and $p_i$ the probability that a member of the general population of cell $i$ supports gay marriage.  We build a Bayesian multilevel logistic regression model of opinion as follows.\n",
    "\n",
    "$$\\begin{align*}\n",
    "\\eta_i\n",
    "    & = \\beta_0 + \\alpha^{\\textrm{gender : race}}_{j(i)} + \\alpha^{\\textrm{age}}_{k(i)} + \\alpha^{\\textrm{edu}}_{l(i)} + \\alpha^{\\textrm{age : edu}}_{k(i),\\ l(i)} + \\alpha^{\\textrm{state}}_{s(i)} + \\alpha^{\\textrm{poll}}_{m(i)} \\\\\n",
    "\\log \\left(\\frac{p_i}{1 - p_i}\\right)\n",
    "    & = \\eta_i \\\\\n",
    "y_i\n",
    "    & \\sim \\textrm{Bernoulli}(n_i, p_i)\n",
    "\\end{align*}$$\n",
    "\n",
    "Here each subscript indexed by $i$ is the categorical level of that characteristic for respondents in cell $i$.  The prior for the intercept is $\\beta_0 \\sim N(0, 5^2)$.  The prior for the effects of the interaction of gender and age is $\\alpha^{\\textrm{gender : race}}_j \\sim N\\left(0, \\sigma_{\\textrm{gender : race}}^2\\right),$ with $\\sigma_{\\textrm{gender : race}} \\sim \\textrm{HalfCauchy}(5)$.  The priors on $\\alpha^{\\textrm{age}}_k,$ $\\alpha^{\\textrm{edu}}_l,$ $\\alpha^{\\textrm{age : edu}}_{k,\\ l},$ and $\\alpha^{\\textrm{poll}}_m$ are defined similarly.  The prior on the state term, $\\alpha^{\\textrm{state}}_s$, includes state-level predictors for region of the country, religiosity, and support for John Kerry in the 2004 presidential election.\n",
    "\n",
    "$$\\begin{align*}\n",
    "\\alpha^{\\textrm{state}}_s\n",
    "    & \\sim N\\left(\\alpha^{\\textrm{region}}_s + \\beta^{\\textrm{relig}} x^{\\textrm{relig}}_s + \\beta^{\\textrm{kerry}} x^{\\textrm{kerry}}_s, \\sigma^2_{\\textrm{state}}\\right)\n",
    "\\end{align*}$$\n",
    "\n",
    "Here $x^{\\textrm{relig}}_s$ is the log odds of the proportion of the state's residents that are evangelical Christian or Mormon, and $x^{\\textrm{kerry}}_s$ is the log odds of the proportion of the state's voters that voted for John Kerry in 2004.  The priors on $\\alpha^{\\textrm{region}}_s$, $\\beta^{\\textrm{relig}}$, $\\beta^{\\textrm{kerry}}$ are the same as those on the analagous terms in the definition of $\\eta$.\n",
    "\n",
    "First we encode the respondent information."
   ]
  },
  {
   "cell_type": "code",
   "execution_count": 19,
   "metadata": {
    "collapsed": true
   },
   "outputs": [],
   "source": [
    "def encode_gender_race(female, race_wbh):\n",
    "    return (3 * female + race_wbh).values\n",
    "\n",
    "def encode_age_edu(age, edu):\n",
    "    return (4 * age + edu).values"
   ]
  },
  {
   "cell_type": "code",
   "execution_count": 20,
   "metadata": {
    "collapsed": true
   },
   "outputs": [],
   "source": [
    "gender_race = encode_gender_race(uniq_survey_df.female, uniq_survey_df.race_wbh)\n",
    "n_gender_race = np.unique(gender_race).size\n",
    "\n",
    "age = uniq_survey_df.age_cat.values\n",
    "n_age = np.unique(age).size\n",
    "\n",
    "edu = uniq_survey_df.edu_cat.values\n",
    "n_edu = np.unique(edu).size\n",
    "\n",
    "age_edu = encode_age_edu(uniq_survey_df.age_cat, uniq_survey_df.edu_cat)\n",
    "n_age_edu = np.unique(age_edu).size\n",
    "\n",
    "poll, poll_map = uniq_survey_df.poll.factorize()\n",
    "n_poll = poll_map.size\n",
    "\n",
    "region = uniq_survey_df.region_cat.values\n",
    "n_region = np.unique(region).size\n",
    "\n",
    "state = uniq_survey_df.state_initnum.values\n",
    "n_state = 51\n",
    "\n",
    "n = uniq_survey_df.n.values\n",
    "yes_of_all = uniq_survey_df.yes_of_all.values"
   ]
  },
  {
   "cell_type": "markdown",
   "metadata": {},
   "source": [
    "Next we load the state-level data and encode $x^{\\textrm{relig}}$ and $x^{\\textrm{kerry}}$."
   ]
  },
  {
   "cell_type": "code",
   "execution_count": 21,
   "metadata": {
    "collapsed": true
   },
   "outputs": [],
   "source": [
    "STATE_URL = 'http://www.princeton.edu/~jkastell/MRP_primer/state_level_update.dta'\n",
    "\n",
    "state_df = (pd.read_stata(STATE_URL,\n",
    "                          columns=['sstate_initnum', 'sstate',\n",
    "                                   'p_evang', 'p_mormon', 'kerry_04'])\n",
    "              .rename(columns={'sstate_initnum': 'state_initnum', 'sstate': 'state'})\n",
    "              .assign(state_initnum=to_zero_indexed('state_initnum'),\n",
    "                      p_relig=lambda df: df.p_evang + df.p_mormon))"
   ]
  },
  {
   "cell_type": "code",
   "execution_count": 22,
   "metadata": {},
   "outputs": [
    {
     "data": {
      "text/html": [
       "<div>\n",
       "<style scoped>\n",
       "    .dataframe tbody tr th:only-of-type {\n",
       "        vertical-align: middle;\n",
       "    }\n",
       "\n",
       "    .dataframe tbody tr th {\n",
       "        vertical-align: top;\n",
       "    }\n",
       "\n",
       "    .dataframe thead th {\n",
       "        text-align: right;\n",
       "    }\n",
       "</style>\n",
       "<table border=\"1\" class=\"dataframe\">\n",
       "  <thead>\n",
       "    <tr style=\"text-align: right;\">\n",
       "      <th></th>\n",
       "      <th>state_initnum</th>\n",
       "      <th>state</th>\n",
       "      <th>p_evang</th>\n",
       "      <th>p_mormon</th>\n",
       "      <th>kerry_04</th>\n",
       "      <th>p_relig</th>\n",
       "    </tr>\n",
       "  </thead>\n",
       "  <tbody>\n",
       "    <tr>\n",
       "      <th>0</th>\n",
       "      <td>0</td>\n",
       "      <td>AK</td>\n",
       "      <td>12.440000</td>\n",
       "      <td>3.003126</td>\n",
       "      <td>35.500000</td>\n",
       "      <td>15.443126</td>\n",
       "    </tr>\n",
       "    <tr>\n",
       "      <th>1</th>\n",
       "      <td>1</td>\n",
       "      <td>AL</td>\n",
       "      <td>40.549999</td>\n",
       "      <td>0.458273</td>\n",
       "      <td>36.799999</td>\n",
       "      <td>41.008274</td>\n",
       "    </tr>\n",
       "    <tr>\n",
       "      <th>2</th>\n",
       "      <td>2</td>\n",
       "      <td>AR</td>\n",
       "      <td>43.070000</td>\n",
       "      <td>0.560113</td>\n",
       "      <td>44.599998</td>\n",
       "      <td>43.630112</td>\n",
       "    </tr>\n",
       "    <tr>\n",
       "      <th>3</th>\n",
       "      <td>3</td>\n",
       "      <td>AZ</td>\n",
       "      <td>9.410000</td>\n",
       "      <td>4.878735</td>\n",
       "      <td>44.400002</td>\n",
       "      <td>14.288734</td>\n",
       "    </tr>\n",
       "    <tr>\n",
       "      <th>4</th>\n",
       "      <td>4</td>\n",
       "      <td>CA</td>\n",
       "      <td>7.160000</td>\n",
       "      <td>1.557627</td>\n",
       "      <td>54.299999</td>\n",
       "      <td>8.717627</td>\n",
       "    </tr>\n",
       "  </tbody>\n",
       "</table>\n",
       "</div>"
      ],
      "text/plain": [
       "   state_initnum state    p_evang  p_mormon   kerry_04    p_relig\n",
       "0              0    AK  12.440000  3.003126  35.500000  15.443126\n",
       "1              1    AL  40.549999  0.458273  36.799999  41.008274\n",
       "2              2    AR  43.070000  0.560113  44.599998  43.630112\n",
       "3              3    AZ   9.410000  4.878735  44.400002  14.288734\n",
       "4              4    CA   7.160000  1.557627  54.299999   8.717627"
      ]
     },
     "execution_count": 22,
     "metadata": {},
     "output_type": "execute_result"
    }
   ],
   "source": [
    "state_df.head()"
   ]
  },
  {
   "cell_type": "code",
   "execution_count": 23,
   "metadata": {
    "collapsed": true
   },
   "outputs": [],
   "source": [
    "state_kerry = sp.special.logit(state_df.kerry_04.values / 100.)\n",
    "state_relig = sp.special.logit(state_df.p_relig.values / 100.)"
   ]
  },
  {
   "cell_type": "markdown",
   "metadata": {},
   "source": [
    "The state-level data doesn't contain region information, so we load census data in order to build a mapping between state and region."
   ]
  },
  {
   "cell_type": "code",
   "execution_count": 24,
   "metadata": {
    "collapsed": true
   },
   "outputs": [],
   "source": [
    "CENSUS_URL = 'http://www.princeton.edu/~jkastell/MRP_primer/poststratification%202000.dta'\n",
    "\n",
    "census_df = (pd.read_stata(CENSUS_URL)\n",
    "               .rename(columns=lambda s: s.lstrip('c_').lower())\n",
    "               .assign(race_wbh=to_zero_indexed('race_wbh'),\n",
    "                       edu_cat=to_zero_indexed('edu_cat'),\n",
    "                       age_cat=to_zero_indexed('age_cat')))"
   ]
  },
  {
   "cell_type": "code",
   "execution_count": 25,
   "metadata": {},
   "outputs": [
    {
     "data": {
      "text/html": [
       "<div>\n",
       "<style scoped>\n",
       "    .dataframe tbody tr th:only-of-type {\n",
       "        vertical-align: middle;\n",
       "    }\n",
       "\n",
       "    .dataframe tbody tr th {\n",
       "        vertical-align: top;\n",
       "    }\n",
       "\n",
       "    .dataframe thead th {\n",
       "        text-align: right;\n",
       "    }\n",
       "</style>\n",
       "<table border=\"1\" class=\"dataframe\">\n",
       "  <thead>\n",
       "    <tr style=\"text-align: right;\">\n",
       "      <th></th>\n",
       "      <th>race_wbh</th>\n",
       "      <th>age_cat</th>\n",
       "      <th>edu_cat</th>\n",
       "      <th>female</th>\n",
       "      <th>state</th>\n",
       "      <th>freq</th>\n",
       "      <th>freq_state</th>\n",
       "      <th>percent_state</th>\n",
       "      <th>region</th>\n",
       "    </tr>\n",
       "  </thead>\n",
       "  <tbody>\n",
       "    <tr>\n",
       "      <th>0</th>\n",
       "      <td>0</td>\n",
       "      <td>0</td>\n",
       "      <td>0</td>\n",
       "      <td>0</td>\n",
       "      <td>AK</td>\n",
       "      <td>467</td>\n",
       "      <td>21222.0</td>\n",
       "      <td>0.022005</td>\n",
       "      <td>west</td>\n",
       "    </tr>\n",
       "    <tr>\n",
       "      <th>1</th>\n",
       "      <td>0</td>\n",
       "      <td>1</td>\n",
       "      <td>0</td>\n",
       "      <td>0</td>\n",
       "      <td>AK</td>\n",
       "      <td>377</td>\n",
       "      <td>21222.0</td>\n",
       "      <td>0.017765</td>\n",
       "      <td>west</td>\n",
       "    </tr>\n",
       "    <tr>\n",
       "      <th>2</th>\n",
       "      <td>0</td>\n",
       "      <td>2</td>\n",
       "      <td>0</td>\n",
       "      <td>0</td>\n",
       "      <td>AK</td>\n",
       "      <td>419</td>\n",
       "      <td>21222.0</td>\n",
       "      <td>0.019744</td>\n",
       "      <td>west</td>\n",
       "    </tr>\n",
       "    <tr>\n",
       "      <th>3</th>\n",
       "      <td>0</td>\n",
       "      <td>3</td>\n",
       "      <td>0</td>\n",
       "      <td>0</td>\n",
       "      <td>AK</td>\n",
       "      <td>343</td>\n",
       "      <td>21222.0</td>\n",
       "      <td>0.016162</td>\n",
       "      <td>west</td>\n",
       "    </tr>\n",
       "    <tr>\n",
       "      <th>4</th>\n",
       "      <td>0</td>\n",
       "      <td>0</td>\n",
       "      <td>1</td>\n",
       "      <td>0</td>\n",
       "      <td>AK</td>\n",
       "      <td>958</td>\n",
       "      <td>21222.0</td>\n",
       "      <td>0.045142</td>\n",
       "      <td>west</td>\n",
       "    </tr>\n",
       "  </tbody>\n",
       "</table>\n",
       "</div>"
      ],
      "text/plain": [
       "   race_wbh  age_cat  edu_cat  female state  freq  freq_state  percent_state  \\\n",
       "0         0        0        0       0    AK   467     21222.0       0.022005   \n",
       "1         0        1        0       0    AK   377     21222.0       0.017765   \n",
       "2         0        2        0       0    AK   419     21222.0       0.019744   \n",
       "3         0        3        0       0    AK   343     21222.0       0.016162   \n",
       "4         0        0        1       0    AK   958     21222.0       0.045142   \n",
       "\n",
       "  region  \n",
       "0   west  \n",
       "1   west  \n",
       "2   west  \n",
       "3   west  \n",
       "4   west  "
      ]
     },
     "execution_count": 25,
     "metadata": {},
     "output_type": "execute_result"
    }
   ],
   "source": [
    "census_df.head()"
   ]
  },
  {
   "cell_type": "code",
   "execution_count": 26,
   "metadata": {
    "collapsed": true
   },
   "outputs": [],
   "source": [
    "state_df = (pd.merge(\n",
    "                pd.merge((survey_df.groupby('region')\n",
    "                                   .region_cat\n",
    "                                   .first()\n",
    "                                   .reset_index()),\n",
    "                          (census_df[['state', 'region']].drop_duplicates()),\n",
    "                          on='region')[['state', 'region_cat']],\n",
    "                 state_df, on='state')\n",
    "               .set_index('state_initnum')\n",
    "               .sort_index())"
   ]
  },
  {
   "cell_type": "code",
   "execution_count": 27,
   "metadata": {},
   "outputs": [
    {
     "data": {
      "text/html": [
       "<div>\n",
       "<style scoped>\n",
       "    .dataframe tbody tr th:only-of-type {\n",
       "        vertical-align: middle;\n",
       "    }\n",
       "\n",
       "    .dataframe tbody tr th {\n",
       "        vertical-align: top;\n",
       "    }\n",
       "\n",
       "    .dataframe thead th {\n",
       "        text-align: right;\n",
       "    }\n",
       "</style>\n",
       "<table border=\"1\" class=\"dataframe\">\n",
       "  <thead>\n",
       "    <tr style=\"text-align: right;\">\n",
       "      <th></th>\n",
       "      <th>state</th>\n",
       "      <th>region_cat</th>\n",
       "      <th>p_evang</th>\n",
       "      <th>p_mormon</th>\n",
       "      <th>kerry_04</th>\n",
       "      <th>p_relig</th>\n",
       "    </tr>\n",
       "    <tr>\n",
       "      <th>state_initnum</th>\n",
       "      <th></th>\n",
       "      <th></th>\n",
       "      <th></th>\n",
       "      <th></th>\n",
       "      <th></th>\n",
       "      <th></th>\n",
       "    </tr>\n",
       "  </thead>\n",
       "  <tbody>\n",
       "    <tr>\n",
       "      <th>0</th>\n",
       "      <td>AK</td>\n",
       "      <td>3</td>\n",
       "      <td>12.440000</td>\n",
       "      <td>3.003126</td>\n",
       "      <td>35.500000</td>\n",
       "      <td>15.443126</td>\n",
       "    </tr>\n",
       "    <tr>\n",
       "      <th>1</th>\n",
       "      <td>AL</td>\n",
       "      <td>2</td>\n",
       "      <td>40.549999</td>\n",
       "      <td>0.458273</td>\n",
       "      <td>36.799999</td>\n",
       "      <td>41.008274</td>\n",
       "    </tr>\n",
       "    <tr>\n",
       "      <th>2</th>\n",
       "      <td>AR</td>\n",
       "      <td>2</td>\n",
       "      <td>43.070000</td>\n",
       "      <td>0.560113</td>\n",
       "      <td>44.599998</td>\n",
       "      <td>43.630112</td>\n",
       "    </tr>\n",
       "    <tr>\n",
       "      <th>3</th>\n",
       "      <td>AZ</td>\n",
       "      <td>3</td>\n",
       "      <td>9.410000</td>\n",
       "      <td>4.878735</td>\n",
       "      <td>44.400002</td>\n",
       "      <td>14.288734</td>\n",
       "    </tr>\n",
       "    <tr>\n",
       "      <th>4</th>\n",
       "      <td>CA</td>\n",
       "      <td>3</td>\n",
       "      <td>7.160000</td>\n",
       "      <td>1.557627</td>\n",
       "      <td>54.299999</td>\n",
       "      <td>8.717627</td>\n",
       "    </tr>\n",
       "  </tbody>\n",
       "</table>\n",
       "</div>"
      ],
      "text/plain": [
       "              state  region_cat    p_evang  p_mormon   kerry_04    p_relig\n",
       "state_initnum                                                             \n",
       "0                AK           3  12.440000  3.003126  35.500000  15.443126\n",
       "1                AL           2  40.549999  0.458273  36.799999  41.008274\n",
       "2                AR           2  43.070000  0.560113  44.599998  43.630112\n",
       "3                AZ           3   9.410000  4.878735  44.400002  14.288734\n",
       "4                CA           3   7.160000  1.557627  54.299999   8.717627"
      ]
     },
     "execution_count": 27,
     "metadata": {},
     "output_type": "execute_result"
    }
   ],
   "source": [
    "state_df.head()"
   ]
  },
  {
   "cell_type": "code",
   "execution_count": 28,
   "metadata": {
    "collapsed": true
   },
   "outputs": [],
   "source": [
    "state_region = state_df.region_cat.values"
   ]
  },
  {
   "cell_type": "markdown",
   "metadata": {},
   "source": [
    "Finally, we are ready to specify the model with PyMC3.  First, we wrap the predictors in `theano.shared` so that we can eventually replace the survey respondent's predictors with census predictors for posterior prediction (the poststratification step of MRP)."
   ]
  },
  {
   "cell_type": "code",
   "execution_count": 29,
   "metadata": {
    "collapsed": true
   },
   "outputs": [],
   "source": [
    "gender_race_ = shared(gender_race)\n",
    "age_ = shared(age)\n",
    "edu_ = shared(edu)\n",
    "age_edu_ = shared(age_edu)\n",
    "poll_ = shared(poll)\n",
    "state_ = shared(state)\n",
    "use_poll_ = shared(1)\n",
    "n_ = shared(n)"
   ]
  },
  {
   "cell_type": "markdown",
   "metadata": {},
   "source": [
    "We specify the model for $\\alpha^{\\textrm{state}}$."
   ]
  },
  {
   "cell_type": "code",
   "execution_count": 30,
   "metadata": {
    "collapsed": true
   },
   "outputs": [],
   "source": [
    "def hierarchical_normal(name, shape, μ=0.):\n",
    "    Δ = pm.Normal('Δ_{}'.format(name), 0., 1., shape=shape)\n",
    "    σ = pm.HalfCauchy('σ_{}'.format(name), 5.)\n",
    "    \n",
    "    return pm.Deterministic(name, μ + Δ * σ)"
   ]
  },
  {
   "cell_type": "code",
   "execution_count": 31,
   "metadata": {
    "collapsed": true
   },
   "outputs": [],
   "source": [
    "with pm.Model() as model:\n",
    "    α_region = hierarchical_normal('region', n_region)\n",
    "    β_relig = pm.Normal('relig', 0., 5.)\n",
    "    β_kerry = pm.Normal('kerry', 0., 5.)\n",
    "    μ_state = α_region[state_region] + β_relig * state_relig + β_kerry * state_kerry\n",
    "    α_state = hierarchical_normal('state', n_state, μ=μ_state)"
   ]
  },
  {
   "cell_type": "markdown",
   "metadata": {},
   "source": [
    "Throughout, we use a [non-centered parametrization](http://twiecki.github.io/blog/2017/02/08/bayesian-hierchical-non-centered/) for our hierarchical normal priors for more efficient sampling.  We now specify the rest of $\\eta_i$."
   ]
  },
  {
   "cell_type": "code",
   "execution_count": 36,
   "metadata": {},
   "outputs": [
    {
     "ename": "ValueError",
     "evalue": "Variable name β0 already exists.",
     "output_type": "error",
     "traceback": [
      "\u001b[0;31m---------------------------------------------------------------------------\u001b[0m",
      "\u001b[0;31mValueError\u001b[0m                                Traceback (most recent call last)",
      "\u001b[0;32m<ipython-input-36-417565c31dbd>\u001b[0m in \u001b[0;36m<module>\u001b[0;34m()\u001b[0m\n\u001b[1;32m      1\u001b[0m \u001b[0;32mwith\u001b[0m \u001b[0mmodel\u001b[0m\u001b[0;34m:\u001b[0m\u001b[0;34m\u001b[0m\u001b[0m\n\u001b[1;32m      2\u001b[0m     β0 = pm.Normal('β0', 0., 5.,\n\u001b[0;32m----> 3\u001b[0;31m                    testval=sp.special.logit(survey_df.yes_of_all.mean()))\n\u001b[0m\u001b[1;32m      4\u001b[0m     \u001b[0mα_gender_race\u001b[0m \u001b[0;34m=\u001b[0m \u001b[0mhierarchical_normal\u001b[0m\u001b[0;34m(\u001b[0m\u001b[0;34m'gender_race'\u001b[0m\u001b[0;34m,\u001b[0m \u001b[0mn_gender_race\u001b[0m\u001b[0;34m)\u001b[0m\u001b[0;34m\u001b[0m\u001b[0m\n\u001b[1;32m      5\u001b[0m     \u001b[0mα_age\u001b[0m \u001b[0;34m=\u001b[0m \u001b[0mhierarchical_normal\u001b[0m\u001b[0;34m(\u001b[0m\u001b[0;34m'age'\u001b[0m\u001b[0;34m,\u001b[0m \u001b[0mn_age\u001b[0m\u001b[0;34m)\u001b[0m\u001b[0;34m\u001b[0m\u001b[0m\n",
      "\u001b[0;32m~/anaconda3/lib/python3.6/site-packages/pymc3/distributions/distribution.py\u001b[0m in \u001b[0;36m__new__\u001b[0;34m(cls, name, *args, **kwargs)\u001b[0m\n\u001b[1;32m     35\u001b[0m             \u001b[0mtotal_size\u001b[0m \u001b[0;34m=\u001b[0m \u001b[0mkwargs\u001b[0m\u001b[0;34m.\u001b[0m\u001b[0mpop\u001b[0m\u001b[0;34m(\u001b[0m\u001b[0;34m'total_size'\u001b[0m\u001b[0;34m,\u001b[0m \u001b[0;32mNone\u001b[0m\u001b[0;34m)\u001b[0m\u001b[0;34m\u001b[0m\u001b[0m\n\u001b[1;32m     36\u001b[0m             \u001b[0mdist\u001b[0m \u001b[0;34m=\u001b[0m \u001b[0mcls\u001b[0m\u001b[0;34m.\u001b[0m\u001b[0mdist\u001b[0m\u001b[0;34m(\u001b[0m\u001b[0;34m*\u001b[0m\u001b[0margs\u001b[0m\u001b[0;34m,\u001b[0m \u001b[0;34m**\u001b[0m\u001b[0mkwargs\u001b[0m\u001b[0;34m)\u001b[0m\u001b[0;34m\u001b[0m\u001b[0m\n\u001b[0;32m---> 37\u001b[0;31m             \u001b[0;32mreturn\u001b[0m \u001b[0mmodel\u001b[0m\u001b[0;34m.\u001b[0m\u001b[0mVar\u001b[0m\u001b[0;34m(\u001b[0m\u001b[0mname\u001b[0m\u001b[0;34m,\u001b[0m \u001b[0mdist\u001b[0m\u001b[0;34m,\u001b[0m \u001b[0mdata\u001b[0m\u001b[0;34m,\u001b[0m \u001b[0mtotal_size\u001b[0m\u001b[0;34m)\u001b[0m\u001b[0;34m\u001b[0m\u001b[0m\n\u001b[0m\u001b[1;32m     38\u001b[0m         \u001b[0;32melse\u001b[0m\u001b[0;34m:\u001b[0m\u001b[0;34m\u001b[0m\u001b[0m\n\u001b[1;32m     39\u001b[0m             \u001b[0;32mraise\u001b[0m \u001b[0mTypeError\u001b[0m\u001b[0;34m(\u001b[0m\u001b[0;34m\"Name needs to be a string but got: {}\"\u001b[0m\u001b[0;34m.\u001b[0m\u001b[0mformat\u001b[0m\u001b[0;34m(\u001b[0m\u001b[0mname\u001b[0m\u001b[0;34m)\u001b[0m\u001b[0;34m)\u001b[0m\u001b[0;34m\u001b[0m\u001b[0m\n",
      "\u001b[0;32m~/anaconda3/lib/python3.6/site-packages/pymc3/model.py\u001b[0m in \u001b[0;36mVar\u001b[0;34m(self, name, dist, data, total_size)\u001b[0m\n\u001b[1;32m    787\u001b[0m                 \u001b[0mself\u001b[0m\u001b[0;34m.\u001b[0m\u001b[0mnamed_vars\u001b[0m\u001b[0;34m[\u001b[0m\u001b[0mvar\u001b[0m\u001b[0;34m.\u001b[0m\u001b[0mmissing_values\u001b[0m\u001b[0;34m.\u001b[0m\u001b[0mname\u001b[0m\u001b[0;34m]\u001b[0m \u001b[0;34m=\u001b[0m \u001b[0mvar\u001b[0m\u001b[0;34m.\u001b[0m\u001b[0mmissing_values\u001b[0m\u001b[0;34m\u001b[0m\u001b[0m\n\u001b[1;32m    788\u001b[0m \u001b[0;34m\u001b[0m\u001b[0m\n\u001b[0;32m--> 789\u001b[0;31m         \u001b[0mself\u001b[0m\u001b[0;34m.\u001b[0m\u001b[0madd_random_variable\u001b[0m\u001b[0;34m(\u001b[0m\u001b[0mvar\u001b[0m\u001b[0;34m)\u001b[0m\u001b[0;34m\u001b[0m\u001b[0m\n\u001b[0m\u001b[1;32m    790\u001b[0m         \u001b[0;32mreturn\u001b[0m \u001b[0mvar\u001b[0m\u001b[0;34m\u001b[0m\u001b[0m\n\u001b[1;32m    791\u001b[0m \u001b[0;34m\u001b[0m\u001b[0m\n",
      "\u001b[0;32m~/anaconda3/lib/python3.6/site-packages/pymc3/model.py\u001b[0m in \u001b[0;36madd_random_variable\u001b[0;34m(self, var)\u001b[0m\n\u001b[1;32m    794\u001b[0m         \u001b[0;32mif\u001b[0m \u001b[0mself\u001b[0m\u001b[0;34m.\u001b[0m\u001b[0mnamed_vars\u001b[0m\u001b[0;34m.\u001b[0m\u001b[0mtree_contains\u001b[0m\u001b[0;34m(\u001b[0m\u001b[0mvar\u001b[0m\u001b[0;34m.\u001b[0m\u001b[0mname\u001b[0m\u001b[0;34m)\u001b[0m\u001b[0;34m:\u001b[0m\u001b[0;34m\u001b[0m\u001b[0m\n\u001b[1;32m    795\u001b[0m             raise ValueError(\n\u001b[0;32m--> 796\u001b[0;31m                 \"Variable name {} already exists.\".format(var.name))\n\u001b[0m\u001b[1;32m    797\u001b[0m         \u001b[0mself\u001b[0m\u001b[0;34m.\u001b[0m\u001b[0mnamed_vars\u001b[0m\u001b[0;34m[\u001b[0m\u001b[0mvar\u001b[0m\u001b[0;34m.\u001b[0m\u001b[0mname\u001b[0m\u001b[0;34m]\u001b[0m \u001b[0;34m=\u001b[0m \u001b[0mvar\u001b[0m\u001b[0;34m\u001b[0m\u001b[0m\n\u001b[1;32m    798\u001b[0m         \u001b[0;32mif\u001b[0m \u001b[0;32mnot\u001b[0m \u001b[0mhasattr\u001b[0m\u001b[0;34m(\u001b[0m\u001b[0mself\u001b[0m\u001b[0;34m,\u001b[0m \u001b[0mself\u001b[0m\u001b[0;34m.\u001b[0m\u001b[0mname_of\u001b[0m\u001b[0;34m(\u001b[0m\u001b[0mvar\u001b[0m\u001b[0;34m.\u001b[0m\u001b[0mname\u001b[0m\u001b[0;34m)\u001b[0m\u001b[0;34m)\u001b[0m\u001b[0;34m:\u001b[0m\u001b[0;34m\u001b[0m\u001b[0m\n",
      "\u001b[0;31mValueError\u001b[0m: Variable name β0 already exists."
     ]
    }
   ],
   "source": [
    "with model:\n",
    "    β0 = pm.Normal('β0', 0., 5.,\n",
    "                   testval=sp.special.logit(survey_df.yes_of_all.mean()))\n",
    "    α_gender_race = hierarchical_normal('gender_race', n_gender_race)\n",
    "    α_age = hierarchical_normal('age', n_age)\n",
    "    α_edu = hierarchical_normal('edu', n_edu)\n",
    "    α_age_edu = hierarchical_normal('age_edu', n_age_edu)\n",
    "    α_poll = hierarchical_normal('poll', n_poll)\n",
    "    \n",
    "    η = β0 \\\n",
    "        + α_gender_race[gender_race_] \\\n",
    "        + α_age[age_] \\\n",
    "        + α_edu[edu_] \\\n",
    "        + α_age_edu[age_edu_] \\\n",
    "        + α_state[state_] \\\n",
    "        + use_poll_ * α_poll[poll_]"
   ]
  },
  {
   "cell_type": "markdown",
   "metadata": {},
   "source": [
    "Here the `theano.shared` variable `use_poll_` will allow us to ignore poll effects when we do posterior predictive sampling with census data.\n",
    "\n",
    "Finally, we specify the likelihood and sample from the model using NUTS."
   ]
  },
  {
   "cell_type": "code",
   "execution_count": 33,
   "metadata": {},
   "outputs": [],
   "source": [
    "with model:\n",
    "    p = pm.math.sigmoid(η)\n",
    "    obs = pm.Binomial('obs', n_, p, observed=yes_of_all)"
   ]
  },
  {
   "cell_type": "code",
   "execution_count": 34,
   "metadata": {},
   "outputs": [
    {
     "name": "stdout",
     "output_type": "stream",
     "text": [
      "Δ_region -4.594692666023363\n",
      "σ_region_log__ -1.1447299140155283\n",
      "relig -2.528376445638773\n",
      "kerry -2.528376445638773\n",
      "Δ_state -46.865865193438346\n",
      "σ_state_log__ -1.1447299140155283\n",
      "β0 -2.5379986288651932\n",
      "Δ_gender_race -5.513631199228035\n",
      "σ_gender_race_log__ -1.1447299140155283\n",
      "Δ_age -3.6757541328186907\n",
      "σ_age_log__ -1.1447299140155283\n",
      "Δ_edu -3.6757541328186907\n",
      "σ_edu_log__ -1.1447299140155283\n",
      "Δ_age_edu -14.703016531274757\n",
      "σ_age_edu_log__ -1.1447299140155283\n",
      "Δ_poll -4.594692666023363\n",
      "σ_poll_log__ -1.1447299140155283\n",
      "obs -3058.4309910836696\n"
     ]
    }
   ],
   "source": [
    "for RV in model.basic_RVs: print(RV.name, RV.logp(model.test_point))"
   ]
  },
  {
   "cell_type": "code",
   "execution_count": null,
   "metadata": {},
   "outputs": [],
   "source": []
  },
  {
   "cell_type": "code",
   "execution_count": 35,
   "metadata": {
    "scrolled": false
   },
   "outputs": [
    {
     "name": "stderr",
     "output_type": "stream",
     "text": [
      "Auto-assigning NUTS sampler...\n",
      "Initializing NUTS using jitter+adapt_diag...\n",
      "/home/leexa/anaconda3/lib/python3.6/site-packages/pymc3/model.py:384: FutureWarning: Conversion of the second argument of issubdtype from `float` to `np.floating` is deprecated. In future, it will be treated as `np.float64 == np.dtype(float).type`.\n",
      "  if not np.issubdtype(var.dtype, float):\n",
      "Sequential sampling (2 chains in 1 job)\n",
      "NUTS: [σ_poll_log__, Δ_poll, σ_age_edu_log__, Δ_age_edu, σ_edu_log__, Δ_edu, σ_age_log__, Δ_age, σ_gender_race_log__, Δ_gender_race, β0, σ_state_log__, Δ_state, kerry, relig, σ_region_log__, Δ_region]\n",
      "  0%|          | 0/1500 [00:00<?, ?it/s]\n"
     ]
    },
    {
     "ename": "ValueError",
     "evalue": "Bad initial energy: inf. The model might be misspecified.",
     "output_type": "error",
     "traceback": [
      "\u001b[0;31m---------------------------------------------------------------------------\u001b[0m",
      "\u001b[0;31mValueError\u001b[0m                                Traceback (most recent call last)",
      "\u001b[0;32m<ipython-input-35-911109b9e00f>\u001b[0m in \u001b[0;36m<module>\u001b[0;34m()\u001b[0m\n\u001b[1;32m      5\u001b[0m \u001b[0;32mwith\u001b[0m \u001b[0mmodel\u001b[0m\u001b[0;34m:\u001b[0m\u001b[0;34m\u001b[0m\u001b[0m\n\u001b[1;32m      6\u001b[0m     trace = pm.sample(draws=1000, random_seed=SEED,\n\u001b[0;32m----> 7\u001b[0;31m                       nuts_kwargs=NUTS_KWARGS, njobs=1)\n\u001b[0m",
      "\u001b[0;32m~/anaconda3/lib/python3.6/site-packages/pymc3/sampling.py\u001b[0m in \u001b[0;36msample\u001b[0;34m(draws, step, init, n_init, start, trace, chain_idx, chains, njobs, tune, nuts_kwargs, step_kwargs, progressbar, model, random_seed, live_plot, discard_tuned_samples, live_plot_kwargs, compute_convergence_checks, **kwargs)\u001b[0m\n\u001b[1;32m    437\u001b[0m             \u001b[0m_log\u001b[0m\u001b[0;34m.\u001b[0m\u001b[0minfo\u001b[0m\u001b[0;34m(\u001b[0m\u001b[0;34m'Sequential sampling ({} chains in 1 job)'\u001b[0m\u001b[0;34m.\u001b[0m\u001b[0mformat\u001b[0m\u001b[0;34m(\u001b[0m\u001b[0mchains\u001b[0m\u001b[0;34m)\u001b[0m\u001b[0;34m)\u001b[0m\u001b[0;34m\u001b[0m\u001b[0m\n\u001b[1;32m    438\u001b[0m             \u001b[0m_print_step_hierarchy\u001b[0m\u001b[0;34m(\u001b[0m\u001b[0mstep\u001b[0m\u001b[0;34m)\u001b[0m\u001b[0;34m\u001b[0m\u001b[0m\n\u001b[0;32m--> 439\u001b[0;31m             \u001b[0mtrace\u001b[0m \u001b[0;34m=\u001b[0m \u001b[0m_sample_many\u001b[0m\u001b[0;34m(\u001b[0m\u001b[0;34m**\u001b[0m\u001b[0msample_args\u001b[0m\u001b[0;34m)\u001b[0m\u001b[0;34m\u001b[0m\u001b[0m\n\u001b[0m\u001b[1;32m    440\u001b[0m \u001b[0;34m\u001b[0m\u001b[0m\n\u001b[1;32m    441\u001b[0m     \u001b[0mdiscard\u001b[0m \u001b[0;34m=\u001b[0m \u001b[0mtune\u001b[0m \u001b[0;32mif\u001b[0m \u001b[0mdiscard_tuned_samples\u001b[0m \u001b[0;32melse\u001b[0m \u001b[0;36m0\u001b[0m\u001b[0;34m\u001b[0m\u001b[0m\n",
      "\u001b[0;32m~/anaconda3/lib/python3.6/site-packages/pymc3/sampling.py\u001b[0m in \u001b[0;36m_sample_many\u001b[0;34m(draws, chain, chains, start, random_seed, step, **kwargs)\u001b[0m\n\u001b[1;32m    480\u001b[0m     \u001b[0;32mfor\u001b[0m \u001b[0mi\u001b[0m \u001b[0;32min\u001b[0m \u001b[0mrange\u001b[0m\u001b[0;34m(\u001b[0m\u001b[0mchains\u001b[0m\u001b[0;34m)\u001b[0m\u001b[0;34m:\u001b[0m\u001b[0;34m\u001b[0m\u001b[0m\n\u001b[1;32m    481\u001b[0m         trace = _sample(draws=draws, chain=chain + i, start=start[i],\n\u001b[0;32m--> 482\u001b[0;31m                         step=step, random_seed=random_seed[i], **kwargs)\n\u001b[0m\u001b[1;32m    483\u001b[0m         \u001b[0;32mif\u001b[0m \u001b[0mtrace\u001b[0m \u001b[0;32mis\u001b[0m \u001b[0;32mNone\u001b[0m\u001b[0;34m:\u001b[0m\u001b[0;34m\u001b[0m\u001b[0m\n\u001b[1;32m    484\u001b[0m             \u001b[0;32mif\u001b[0m \u001b[0mlen\u001b[0m\u001b[0;34m(\u001b[0m\u001b[0mtraces\u001b[0m\u001b[0;34m)\u001b[0m \u001b[0;34m==\u001b[0m \u001b[0;36m0\u001b[0m\u001b[0;34m:\u001b[0m\u001b[0;34m\u001b[0m\u001b[0m\n",
      "\u001b[0;32m~/anaconda3/lib/python3.6/site-packages/pymc3/sampling.py\u001b[0m in \u001b[0;36m_sample\u001b[0;34m(chain, progressbar, random_seed, start, draws, step, trace, tune, model, live_plot, live_plot_kwargs, **kwargs)\u001b[0m\n\u001b[1;32m    524\u001b[0m     \u001b[0;32mtry\u001b[0m\u001b[0;34m:\u001b[0m\u001b[0;34m\u001b[0m\u001b[0m\n\u001b[1;32m    525\u001b[0m         \u001b[0mstrace\u001b[0m \u001b[0;34m=\u001b[0m \u001b[0;32mNone\u001b[0m\u001b[0;34m\u001b[0m\u001b[0m\n\u001b[0;32m--> 526\u001b[0;31m         \u001b[0;32mfor\u001b[0m \u001b[0mit\u001b[0m\u001b[0;34m,\u001b[0m \u001b[0mstrace\u001b[0m \u001b[0;32min\u001b[0m \u001b[0menumerate\u001b[0m\u001b[0;34m(\u001b[0m\u001b[0msampling\u001b[0m\u001b[0;34m)\u001b[0m\u001b[0;34m:\u001b[0m\u001b[0;34m\u001b[0m\u001b[0m\n\u001b[0m\u001b[1;32m    527\u001b[0m             \u001b[0;32mif\u001b[0m \u001b[0mlive_plot\u001b[0m\u001b[0;34m:\u001b[0m\u001b[0;34m\u001b[0m\u001b[0m\n\u001b[1;32m    528\u001b[0m                 \u001b[0;32mif\u001b[0m \u001b[0mlive_plot_kwargs\u001b[0m \u001b[0;32mis\u001b[0m \u001b[0;32mNone\u001b[0m\u001b[0;34m:\u001b[0m\u001b[0;34m\u001b[0m\u001b[0m\n",
      "\u001b[0;32m~/anaconda3/lib/python3.6/site-packages/tqdm/_tqdm.py\u001b[0m in \u001b[0;36m__iter__\u001b[0;34m(self)\u001b[0m\n\u001b[1;32m    908\u001b[0m \"\"\", fp_write=getattr(self.fp, 'write', sys.stderr.write))\n\u001b[1;32m    909\u001b[0m \u001b[0;34m\u001b[0m\u001b[0m\n\u001b[0;32m--> 910\u001b[0;31m             \u001b[0;32mfor\u001b[0m \u001b[0mobj\u001b[0m \u001b[0;32min\u001b[0m \u001b[0miterable\u001b[0m\u001b[0;34m:\u001b[0m\u001b[0;34m\u001b[0m\u001b[0m\n\u001b[0m\u001b[1;32m    911\u001b[0m                 \u001b[0;32myield\u001b[0m \u001b[0mobj\u001b[0m\u001b[0;34m\u001b[0m\u001b[0m\n\u001b[1;32m    912\u001b[0m                 \u001b[0;31m# Update and possibly print the progressbar.\u001b[0m\u001b[0;34m\u001b[0m\u001b[0;34m\u001b[0m\u001b[0m\n",
      "\u001b[0;32m~/anaconda3/lib/python3.6/site-packages/pymc3/sampling.py\u001b[0m in \u001b[0;36m_iter_sample\u001b[0;34m(draws, step, start, trace, chain, tune, model, random_seed)\u001b[0m\n\u001b[1;32m    622\u001b[0m                 \u001b[0mstep\u001b[0m \u001b[0;34m=\u001b[0m \u001b[0mstop_tuning\u001b[0m\u001b[0;34m(\u001b[0m\u001b[0mstep\u001b[0m\u001b[0;34m)\u001b[0m\u001b[0;34m\u001b[0m\u001b[0m\n\u001b[1;32m    623\u001b[0m             \u001b[0;32mif\u001b[0m \u001b[0mstep\u001b[0m\u001b[0;34m.\u001b[0m\u001b[0mgenerates_stats\u001b[0m\u001b[0;34m:\u001b[0m\u001b[0;34m\u001b[0m\u001b[0m\n\u001b[0;32m--> 624\u001b[0;31m                 \u001b[0mpoint\u001b[0m\u001b[0;34m,\u001b[0m \u001b[0mstates\u001b[0m \u001b[0;34m=\u001b[0m \u001b[0mstep\u001b[0m\u001b[0;34m.\u001b[0m\u001b[0mstep\u001b[0m\u001b[0;34m(\u001b[0m\u001b[0mpoint\u001b[0m\u001b[0;34m)\u001b[0m\u001b[0;34m\u001b[0m\u001b[0m\n\u001b[0m\u001b[1;32m    625\u001b[0m                 \u001b[0;32mif\u001b[0m \u001b[0mstrace\u001b[0m\u001b[0;34m.\u001b[0m\u001b[0msupports_sampler_stats\u001b[0m\u001b[0;34m:\u001b[0m\u001b[0;34m\u001b[0m\u001b[0m\n\u001b[1;32m    626\u001b[0m                     \u001b[0mstrace\u001b[0m\u001b[0;34m.\u001b[0m\u001b[0mrecord\u001b[0m\u001b[0;34m(\u001b[0m\u001b[0mpoint\u001b[0m\u001b[0;34m,\u001b[0m \u001b[0mstates\u001b[0m\u001b[0;34m)\u001b[0m\u001b[0;34m\u001b[0m\u001b[0m\n",
      "\u001b[0;32m~/anaconda3/lib/python3.6/site-packages/pymc3/step_methods/arraystep.py\u001b[0m in \u001b[0;36mstep\u001b[0;34m(self, point)\u001b[0m\n\u001b[1;32m    220\u001b[0m \u001b[0;34m\u001b[0m\u001b[0m\n\u001b[1;32m    221\u001b[0m         \u001b[0;32mif\u001b[0m \u001b[0mself\u001b[0m\u001b[0;34m.\u001b[0m\u001b[0mgenerates_stats\u001b[0m\u001b[0;34m:\u001b[0m\u001b[0;34m\u001b[0m\u001b[0m\n\u001b[0;32m--> 222\u001b[0;31m             \u001b[0mapoint\u001b[0m\u001b[0;34m,\u001b[0m \u001b[0mstats\u001b[0m \u001b[0;34m=\u001b[0m \u001b[0mself\u001b[0m\u001b[0;34m.\u001b[0m\u001b[0mastep\u001b[0m\u001b[0;34m(\u001b[0m\u001b[0marray\u001b[0m\u001b[0;34m)\u001b[0m\u001b[0;34m\u001b[0m\u001b[0m\n\u001b[0m\u001b[1;32m    223\u001b[0m             \u001b[0mpoint\u001b[0m \u001b[0;34m=\u001b[0m \u001b[0mself\u001b[0m\u001b[0;34m.\u001b[0m\u001b[0m_logp_dlogp_func\u001b[0m\u001b[0;34m.\u001b[0m\u001b[0marray_to_full_dict\u001b[0m\u001b[0;34m(\u001b[0m\u001b[0mapoint\u001b[0m\u001b[0;34m)\u001b[0m\u001b[0;34m\u001b[0m\u001b[0m\n\u001b[1;32m    224\u001b[0m             \u001b[0;32mreturn\u001b[0m \u001b[0mpoint\u001b[0m\u001b[0;34m,\u001b[0m \u001b[0mstats\u001b[0m\u001b[0;34m\u001b[0m\u001b[0m\n",
      "\u001b[0;32m~/anaconda3/lib/python3.6/site-packages/pymc3/step_methods/hmc/base_hmc.py\u001b[0m in \u001b[0;36mastep\u001b[0;34m(self, q0)\u001b[0m\n\u001b[1;32m    115\u001b[0m             \u001b[0mself\u001b[0m\u001b[0;34m.\u001b[0m\u001b[0mpotential\u001b[0m\u001b[0;34m.\u001b[0m\u001b[0mraise_ok\u001b[0m\u001b[0;34m(\u001b[0m\u001b[0;34m)\u001b[0m\u001b[0;34m\u001b[0m\u001b[0m\n\u001b[1;32m    116\u001b[0m             raise ValueError('Bad initial energy: %s. The model '\n\u001b[0;32m--> 117\u001b[0;31m                              'might be misspecified.' % start.energy)\n\u001b[0m\u001b[1;32m    118\u001b[0m \u001b[0;34m\u001b[0m\u001b[0m\n\u001b[1;32m    119\u001b[0m         \u001b[0madapt_step\u001b[0m \u001b[0;34m=\u001b[0m \u001b[0mself\u001b[0m\u001b[0;34m.\u001b[0m\u001b[0mtune\u001b[0m \u001b[0;32mand\u001b[0m \u001b[0mself\u001b[0m\u001b[0;34m.\u001b[0m\u001b[0madapt_step_size\u001b[0m\u001b[0;34m\u001b[0m\u001b[0m\n",
      "\u001b[0;31mValueError\u001b[0m: Bad initial energy: inf. The model might be misspecified."
     ]
    }
   ],
   "source": [
    "NUTS_KWARGS = {\n",
    "    'target_accept': 0.99\n",
    "}      \n",
    "\n",
    "with model:\n",
    "    trace = pm.sample(draws=1000, random_seed=SEED,\n",
    "                      nuts_kwargs=NUTS_KWARGS, njobs=1,init=advi+adapt_diag)"
   ]
  },
  {
   "cell_type": "markdown",
   "metadata": {},
   "source": [
    "The marginal energy and energy transition distributions are fairly close, showing no obvious problem with NUTS."
   ]
  },
  {
   "cell_type": "code",
   "execution_count": null,
   "metadata": {},
   "outputs": [],
   "source": [
    "pm.energyplot(trace);"
   ]
  },
  {
   "cell_type": "markdown",
   "metadata": {},
   "source": [
    "The Gelman-Rubin statistics for all parameters are quite close to one, indicating convergence."
   ]
  },
  {
   "cell_type": "code",
   "execution_count": null,
   "metadata": {},
   "outputs": [],
   "source": [
    "max(np.max(score) for score in pm.gelman_rubin(trace).values())"
   ]
  },
  {
   "cell_type": "markdown",
   "metadata": {},
   "source": [
    "We are now ready for the post-stratification step of MRP.  First we combine the census and state-level data."
   ]
  },
  {
   "cell_type": "code",
   "execution_count": null,
   "metadata": {
    "collapsed": true
   },
   "outputs": [],
   "source": [
    "ps_df = pd.merge(census_df,\n",
    "                 state_df[['state', 'region_cat']].reset_index(),\n",
    "                 on='state')"
   ]
  },
  {
   "cell_type": "code",
   "execution_count": null,
   "metadata": {},
   "outputs": [],
   "source": [
    "ps_df.head()"
   ]
  },
  {
   "cell_type": "markdown",
   "metadata": {},
   "source": [
    "Next we encode this combined data as before."
   ]
  },
  {
   "cell_type": "code",
   "execution_count": null,
   "metadata": {
    "collapsed": true
   },
   "outputs": [],
   "source": [
    "ps_gender_race = encode_gender_race(ps_df.female, ps_df.race_wbh)\n",
    "ps_age = ps_df.age_cat.values\n",
    "ps_edu = ps_df.edu_cat.values\n",
    "ps_age_edu = encode_age_edu(ps_df.age_cat, ps_df.edu_cat)\n",
    "ps_region = ps_df.region_cat.values\n",
    "ps_state = ps_df.state_initnum.values\n",
    "ps_n = ps_df.freq.values.astype(np.int64)"
   ]
  },
  {
   "cell_type": "markdown",
   "metadata": {},
   "source": [
    "We now set the values of the `theano.shared` variables in our PyMC3 model to the poststratification data and sample from the posterior predictive distribution."
   ]
  },
  {
   "cell_type": "code",
   "execution_count": null,
   "metadata": {
    "collapsed": true
   },
   "outputs": [],
   "source": [
    "gender_race_.set_value(ps_gender_race)\n",
    "age_.set_value(ps_age)\n",
    "edu_.set_value(ps_edu)\n",
    "age_edu_.set_value(ps_age_edu)\n",
    "poll_.set_value(np.zeros_like(ps_gender_race))\n",
    "state_.set_value(ps_state)\n",
    "use_poll_.set_value(0)\n",
    "n_.set_value(ps_n)"
   ]
  },
  {
   "cell_type": "code",
   "execution_count": null,
   "metadata": {},
   "outputs": [],
   "source": [
    "with model:\n",
    "    pp_trace = pm.sample_ppc(trace, random_seed=SEED)"
   ]
  },
  {
   "cell_type": "code",
   "execution_count": null,
   "metadata": {
    "collapsed": true,
    "scrolled": true
   },
   "outputs": [],
   "source": [
    "PP_COLS = ['pp_yes_of_all_{}'.format(i) for i in range(pp_trace['obs'].shape[0])]\n",
    "\n",
    "pp_df = pd.merge(ps_df,\n",
    "                 pd.DataFrame(pp_trace['obs'].T, columns=PP_COLS),\n",
    "                 left_index=True, right_index=True)"
   ]
  },
  {
   "cell_type": "code",
   "execution_count": null,
   "metadata": {},
   "outputs": [],
   "source": [
    "pp_df.head()"
   ]
  },
  {
   "cell_type": "markdown",
   "metadata": {},
   "source": [
    "We complete the poststratification step by taking a weighted sum across the demographic cells within each state, to produce posterior predictive samples from the state-level opinion distribution."
   ]
  },
  {
   "cell_type": "code",
   "execution_count": null,
   "metadata": {
    "collapsed": true
   },
   "outputs": [],
   "source": [
    "ps_prob = (pp_df.groupby('state')\n",
    "                .apply(lambda df: df[PP_COLS].sum(axis=0) / df.freq.sum()))"
   ]
  },
  {
   "cell_type": "code",
   "execution_count": null,
   "metadata": {},
   "outputs": [],
   "source": [
    "ps_prob.head()"
   ]
  },
  {
   "cell_type": "markdown",
   "metadata": {},
   "source": [
    "The simplest summary of state-level opinion is the posterior expected mean, shown below."
   ]
  },
  {
   "cell_type": "code",
   "execution_count": null,
   "metadata": {
    "collapsed": true,
    "scrolled": false
   },
   "outputs": [],
   "source": [
    "ps_mean = ps_prob.mean(axis=1)"
   ]
  },
  {
   "cell_type": "code",
   "execution_count": null,
   "metadata": {},
   "outputs": [],
   "source": [
    "ps_mean.head()"
   ]
  },
  {
   "cell_type": "markdown",
   "metadata": {},
   "source": [
    "The following choropleth maps show the disaggregation and MRP estimates of support for gay marriage by state."
   ]
  },
  {
   "cell_type": "code",
   "execution_count": null,
   "metadata": {},
   "outputs": [],
   "source": [
    "fig, (disagg_ax, mrp_ax) = plt.subplots(ncols=2, sharex=True, sharey=True, figsize=(16, 6))\n",
    "\n",
    "fig, disagg_ax, _ = state_plot(disagg_p, p_cmap, p_norm, cbar=False, ax=disagg_ax)\n",
    "disagg_ax.set_title(\"Disaggregation\");\n",
    "\n",
    "fig, mrp_ax, cbar_ax = state_plot(ps_mean, p_cmap, p_norm, ax=mrp_ax)\n",
    "cbar_ax.yaxis.set_major_formatter(p_formatter);\n",
    "mrp_ax.set_title(\"MRP\");\n",
    "\n",
    "fig.suptitle(\"Estimated support for gay marriage in 2005\");"
   ]
  },
  {
   "cell_type": "markdown",
   "metadata": {},
   "source": [
    "Notably, MRP produces opinion estimates for Alaska and Hawaii, which disaggregation does not.  The following scatter plot makes it easier to see how the estimate for each state differs between disaggregation and MRP."
   ]
  },
  {
   "cell_type": "code",
   "execution_count": null,
   "metadata": {
    "collapsed": true
   },
   "outputs": [],
   "source": [
    "disagg_p_aligned, ps_mean_aligned = disagg_p.align(ps_mean)"
   ]
  },
  {
   "cell_type": "code",
   "execution_count": null,
   "metadata": {},
   "outputs": [],
   "source": [
    "fig, ax = plt.subplots(figsize=(8, 8))\n",
    "ax.set_aspect('equal');\n",
    "\n",
    "pct_formatter = FuncFormatter(lambda prop, _: '{:.1%}'.format(prop))\n",
    "\n",
    "ax.plot([0.1, 0.7], [0.1, 0.7], '--', c='k', label=\"No change\");\n",
    "ax.scatter(disagg_p_aligned, ps_mean_aligned);\n",
    "\n",
    "ax.set_xlim(0.1, 0.7);\n",
    "ax.xaxis.set_major_formatter(pct_formatter);\n",
    "ax.set_xlabel(\"Disaggregation estimate\");\n",
    "\n",
    "ax.set_ylim(0.1, 0.7);\n",
    "ax.yaxis.set_major_formatter(pct_formatter);\n",
    "ax.set_ylabel(\"MRP estimate\");\n",
    "\n",
    "ax.legend(loc=2);\n",
    "ax.set_title(\"Estimated support for gay marriage in 2005\");"
   ]
  },
  {
   "cell_type": "markdown",
   "metadata": {},
   "source": [
    "We see that the MRP estimates tend to be higher than the disaggregation estimates, possibly due to under-sampling of supportive demographic cells in many states.\n",
    "\n",
    "An additional advantage of MRP is that we can produce better opinion estimates for demographic subsets than disaggregation.  For example, we plot below the disaggregation and MRP estimates of support for gay marriage among black men.  From above, we know disaggregation will not be able to produce an estimate for many states."
   ]
  },
  {
   "cell_type": "code",
   "execution_count": null,
   "metadata": {
    "collapsed": true
   },
   "outputs": [],
   "source": [
    "black_men_disagg_p = (survey_df[(survey_df.race_wbh == 1) & (survey_df.female == 0)]\n",
    "                               .groupby('state')\n",
    "                               .yes_of_all\n",
    "                               .mean())\n",
    "\n",
    "black_men_ps_mean = (pp_df[(pp_df.race_wbh == 1) & (pp_df.female == 0)]\n",
    "                         .groupby('state')\n",
    "                         .apply(lambda df: (df[PP_COLS].sum(axis=0) / df.freq.sum()))\n",
    "                         .mean(axis=1))"
   ]
  },
  {
   "cell_type": "code",
   "execution_count": null,
   "metadata": {},
   "outputs": [],
   "source": [
    "fig, (disagg_ax, mrp_ax) = plt.subplots(ncols=2, sharex=True, sharey=True, figsize=(16, 6))\n",
    "\n",
    "fig, disagg_ax, _ = state_plot(black_men_disagg_p, p_cmap, p_norm, cbar=False, ax=disagg_ax)\n",
    "disagg_ax.set_title(\"Disaggregation\");\n",
    "\n",
    "fig, mrp_ax, cbar_ax = state_plot(black_men_ps_mean, p_cmap, p_norm, ax=mrp_ax)\n",
    "cbar_ax.yaxis.set_major_formatter(p_formatter);\n",
    "mrp_ax.set_title(\"MRP\");\n",
    "\n",
    "fig.suptitle(\"Estimated support for gay marriage\\namong black men in 2005\");"
   ]
  },
  {
   "cell_type": "markdown",
   "metadata": {},
   "source": [
    "In addition to the gaps in the disaggregation map above, it seems highly unlikely that not a single black man in Minnesota, Arizona, New Mexico, etc. supported gay marriage in 2005.  These disaggregation estimates are due to polling few black men in these states, which MRP attempts to counteract.  For further discussion of estimating the opinions of demographic subgroups using MRP, consult Ghitza and Gelman's [_Deep Interactions with MRP: Election Turnout and Voting Patterns Among Small Electoral Subgroups_](http://www.stat.columbia.edu/~gelman/research/published/misterp.pdf).\n",
    "\n",
    "One advantage of using the fully Bayesian approach we have taken to MRP via PyMC3 is that we have access to the full posterior distribution of each state's opinion, in addition to the posterior expected values shown in the above choropleth maps."
   ]
  },
  {
   "cell_type": "code",
   "execution_count": null,
   "metadata": {
    "scrolled": false
   },
   "outputs": [],
   "source": [
    "grid = sns.FacetGrid(pd.melt(ps_prob.reset_index(),\n",
    "                             id_vars='state', value_vars=PP_COLS,\n",
    "                             var_name='pp_sample', value_name='p'),\n",
    "                     col='state', col_wrap=3, size=2, aspect=1.5)\n",
    "grid.map(plt.hist, 'p', bins=30);\n",
    "\n",
    "grid.set_xlabels(\"Posterior distribution of support\\nfor gay marriage in 2005\");\n",
    "\n",
    "for ax in grid.axes.flat:\n",
    "    ax.set_xticks(np.linspace(0, 1, 5));\n",
    "    ax.xaxis.set_major_formatter(pct_formatter);\n",
    "    plt.setp(ax.get_xticklabels(), visible=True);\n",
    "\n",
    "grid.set_yticklabels([]);\n",
    "grid.set_ylabels(\"Frequency\");\n",
    "\n",
    "grid.fig.tight_layout();\n",
    "grid.set_titles('{col_name}');"
   ]
  },
  {
   "cell_type": "markdown",
   "metadata": {},
   "source": [
    "Specifying this model in PyMC3 would certainly have been simpler using [Bambi](https://github.com/bambinos/bambi), which I intend to learn soon for exactly that reason.\n",
    "\n",
    "I am particularly eager to see what applications MRP will find outside of political science in the coming years.\n",
    "\n",
    "This post is available as a Jupyter notebook [here](https://gist.github.com/AustinRochford/bfc20cb3262169b41b730bd9faf74477)."
   ]
  }
 ],
 "metadata": {
  "kernelspec": {
   "display_name": "Python 3",
   "language": "python",
   "name": "python3"
  },
  "language_info": {
   "codemirror_mode": {
    "name": "ipython",
    "version": 3
   },
   "file_extension": ".py",
   "mimetype": "text/x-python",
   "name": "python",
   "nbconvert_exporter": "python",
   "pygments_lexer": "ipython3",
   "version": "3.6.3"
  }
 },
 "nbformat": 4,
 "nbformat_minor": 2
}
